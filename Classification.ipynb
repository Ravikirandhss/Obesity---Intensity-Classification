{
  "nbformat": 4,
  "nbformat_minor": 0,
  "metadata": {
    "colab": {
      "name": "Copy of Classification Part-2.ipynb",
      "provenance": [],
      "collapsed_sections": [],
      "toc_visible": true
    },
    "kernelspec": {
      "name": "python3",
      "display_name": "Python 3"
    }
  },
  "cells": [
    {
      "cell_type": "code",
      "metadata": {
        "id": "Td8H6FRUhbGS"
      },
      "source": [
        "import numpy as np\n",
        "import pandas as pd\n",
        "import matplotlib.pyplot as plt\n",
        "import seaborn as sns"
      ],
      "execution_count": null,
      "outputs": []
    },
    {
      "cell_type": "markdown",
      "metadata": {
        "id": "PMe1WqfWv7ai"
      },
      "source": [
        "# Exploratory Data Analysis"
      ]
    },
    {
      "cell_type": "code",
      "metadata": {
        "colab": {
          "base_uri": "https://localhost:8080/"
        },
        "id": "qBTXIQQRv6iT",
        "outputId": "b832cc25-1ba0-497d-ed48-9f1ae6010909"
      },
      "source": [
        "!git clone 'https://github.com/Ravikirandhss/Sample-Datasets.git'"
      ],
      "execution_count": null,
      "outputs": [
        {
          "output_type": "stream",
          "text": [
            "fatal: destination path 'Sample-Datasets' already exists and is not an empty directory.\n"
          ],
          "name": "stdout"
        }
      ]
    },
    {
      "cell_type": "code",
      "metadata": {
        "id": "eyq-DErDCWNa"
      },
      "source": [
        "df=pd.read_csv(\"Sample-Datasets/ObesityDataSet_raw_and_data_sinthetic.csv\")"
      ],
      "execution_count": null,
      "outputs": []
    },
    {
      "cell_type": "code",
      "metadata": {
        "colab": {
          "base_uri": "https://localhost:8080/",
          "height": 226
        },
        "id": "OXBCABWjDDOP",
        "outputId": "6bf4bbed-3ef2-4fd9-e1d7-6d74dbbb225e"
      },
      "source": [
        "df.head()"
      ],
      "execution_count": null,
      "outputs": [
        {
          "output_type": "execute_result",
          "data": {
            "text/html": [
              "<div>\n",
              "<style scoped>\n",
              "    .dataframe tbody tr th:only-of-type {\n",
              "        vertical-align: middle;\n",
              "    }\n",
              "\n",
              "    .dataframe tbody tr th {\n",
              "        vertical-align: top;\n",
              "    }\n",
              "\n",
              "    .dataframe thead th {\n",
              "        text-align: right;\n",
              "    }\n",
              "</style>\n",
              "<table border=\"1\" class=\"dataframe\">\n",
              "  <thead>\n",
              "    <tr style=\"text-align: right;\">\n",
              "      <th></th>\n",
              "      <th>Gender</th>\n",
              "      <th>Age</th>\n",
              "      <th>Height</th>\n",
              "      <th>Weight</th>\n",
              "      <th>family_history_with_overweight</th>\n",
              "      <th>FAVC</th>\n",
              "      <th>FCVC</th>\n",
              "      <th>NCP</th>\n",
              "      <th>CAEC</th>\n",
              "      <th>SMOKE</th>\n",
              "      <th>CH2O</th>\n",
              "      <th>SCC</th>\n",
              "      <th>FAF</th>\n",
              "      <th>TUE</th>\n",
              "      <th>CALC</th>\n",
              "      <th>MTRANS</th>\n",
              "      <th>NObeyesdad</th>\n",
              "    </tr>\n",
              "  </thead>\n",
              "  <tbody>\n",
              "    <tr>\n",
              "      <th>0</th>\n",
              "      <td>Female</td>\n",
              "      <td>21.0</td>\n",
              "      <td>1.62</td>\n",
              "      <td>64.0</td>\n",
              "      <td>yes</td>\n",
              "      <td>no</td>\n",
              "      <td>2.0</td>\n",
              "      <td>3.0</td>\n",
              "      <td>Sometimes</td>\n",
              "      <td>no</td>\n",
              "      <td>2.0</td>\n",
              "      <td>no</td>\n",
              "      <td>0.0</td>\n",
              "      <td>1.0</td>\n",
              "      <td>no</td>\n",
              "      <td>Public_Transportation</td>\n",
              "      <td>Normal_Weight</td>\n",
              "    </tr>\n",
              "    <tr>\n",
              "      <th>1</th>\n",
              "      <td>Female</td>\n",
              "      <td>21.0</td>\n",
              "      <td>1.52</td>\n",
              "      <td>56.0</td>\n",
              "      <td>yes</td>\n",
              "      <td>no</td>\n",
              "      <td>3.0</td>\n",
              "      <td>3.0</td>\n",
              "      <td>Sometimes</td>\n",
              "      <td>yes</td>\n",
              "      <td>3.0</td>\n",
              "      <td>yes</td>\n",
              "      <td>3.0</td>\n",
              "      <td>0.0</td>\n",
              "      <td>Sometimes</td>\n",
              "      <td>Public_Transportation</td>\n",
              "      <td>Normal_Weight</td>\n",
              "    </tr>\n",
              "    <tr>\n",
              "      <th>2</th>\n",
              "      <td>Male</td>\n",
              "      <td>23.0</td>\n",
              "      <td>1.80</td>\n",
              "      <td>77.0</td>\n",
              "      <td>yes</td>\n",
              "      <td>no</td>\n",
              "      <td>2.0</td>\n",
              "      <td>3.0</td>\n",
              "      <td>Sometimes</td>\n",
              "      <td>no</td>\n",
              "      <td>2.0</td>\n",
              "      <td>no</td>\n",
              "      <td>2.0</td>\n",
              "      <td>1.0</td>\n",
              "      <td>Frequently</td>\n",
              "      <td>Public_Transportation</td>\n",
              "      <td>Normal_Weight</td>\n",
              "    </tr>\n",
              "    <tr>\n",
              "      <th>3</th>\n",
              "      <td>Male</td>\n",
              "      <td>27.0</td>\n",
              "      <td>1.80</td>\n",
              "      <td>87.0</td>\n",
              "      <td>no</td>\n",
              "      <td>no</td>\n",
              "      <td>3.0</td>\n",
              "      <td>3.0</td>\n",
              "      <td>Sometimes</td>\n",
              "      <td>no</td>\n",
              "      <td>2.0</td>\n",
              "      <td>no</td>\n",
              "      <td>2.0</td>\n",
              "      <td>0.0</td>\n",
              "      <td>Frequently</td>\n",
              "      <td>Walking</td>\n",
              "      <td>Overweight_Level_I</td>\n",
              "    </tr>\n",
              "    <tr>\n",
              "      <th>4</th>\n",
              "      <td>Male</td>\n",
              "      <td>22.0</td>\n",
              "      <td>1.78</td>\n",
              "      <td>89.8</td>\n",
              "      <td>no</td>\n",
              "      <td>no</td>\n",
              "      <td>2.0</td>\n",
              "      <td>1.0</td>\n",
              "      <td>Sometimes</td>\n",
              "      <td>no</td>\n",
              "      <td>2.0</td>\n",
              "      <td>no</td>\n",
              "      <td>0.0</td>\n",
              "      <td>0.0</td>\n",
              "      <td>Sometimes</td>\n",
              "      <td>Public_Transportation</td>\n",
              "      <td>Overweight_Level_II</td>\n",
              "    </tr>\n",
              "  </tbody>\n",
              "</table>\n",
              "</div>"
            ],
            "text/plain": [
              "   Gender   Age  Height  ...        CALC                 MTRANS           NObeyesdad\n",
              "0  Female  21.0    1.62  ...          no  Public_Transportation        Normal_Weight\n",
              "1  Female  21.0    1.52  ...   Sometimes  Public_Transportation        Normal_Weight\n",
              "2    Male  23.0    1.80  ...  Frequently  Public_Transportation        Normal_Weight\n",
              "3    Male  27.0    1.80  ...  Frequently                Walking   Overweight_Level_I\n",
              "4    Male  22.0    1.78  ...   Sometimes  Public_Transportation  Overweight_Level_II\n",
              "\n",
              "[5 rows x 17 columns]"
            ]
          },
          "metadata": {},
          "execution_count": 4
        }
      ]
    },
    {
      "cell_type": "code",
      "metadata": {
        "colab": {
          "base_uri": "https://localhost:8080/"
        },
        "id": "i-UB6pgkunsh",
        "outputId": "3f44c1e4-4bfc-4465-fff6-38242c80b304"
      },
      "source": [
        "df.columns"
      ],
      "execution_count": null,
      "outputs": [
        {
          "output_type": "execute_result",
          "data": {
            "text/plain": [
              "Index(['Gender', 'Age', 'Height', 'Weight', 'family_history_with_overweight',\n",
              "       'FAVC', 'FCVC', 'NCP', 'CAEC', 'SMOKE', 'CH2O', 'SCC', 'FAF', 'TUE',\n",
              "       'CALC', 'MTRANS', 'NObeyesdad'],\n",
              "      dtype='object')"
            ]
          },
          "metadata": {},
          "execution_count": 156
        }
      ]
    },
    {
      "cell_type": "code",
      "metadata": {
        "colab": {
          "base_uri": "https://localhost:8080/"
        },
        "id": "nfpVoIU2DMBM",
        "outputId": "2b0b8efb-ae12-42e8-b31e-041f59ccc3fb"
      },
      "source": [
        "df.info()"
      ],
      "execution_count": null,
      "outputs": [
        {
          "output_type": "stream",
          "text": [
            "<class 'pandas.core.frame.DataFrame'>\n",
            "RangeIndex: 2111 entries, 0 to 2110\n",
            "Data columns (total 17 columns):\n",
            " #   Column                          Non-Null Count  Dtype  \n",
            "---  ------                          --------------  -----  \n",
            " 0   Gender                          2111 non-null   object \n",
            " 1   Age                             2111 non-null   float64\n",
            " 2   Height                          2111 non-null   float64\n",
            " 3   Weight                          2111 non-null   float64\n",
            " 4   family_history_with_overweight  2111 non-null   object \n",
            " 5   FAVC                            2111 non-null   object \n",
            " 6   FCVC                            2111 non-null   float64\n",
            " 7   NCP                             2111 non-null   float64\n",
            " 8   CAEC                            2111 non-null   object \n",
            " 9   SMOKE                           2111 non-null   object \n",
            " 10  CH2O                            2111 non-null   float64\n",
            " 11  SCC                             2111 non-null   object \n",
            " 12  FAF                             2111 non-null   float64\n",
            " 13  TUE                             2111 non-null   float64\n",
            " 14  CALC                            2111 non-null   object \n",
            " 15  MTRANS                          2111 non-null   object \n",
            " 16  NObeyesdad                      2111 non-null   object \n",
            "dtypes: float64(8), object(9)\n",
            "memory usage: 280.5+ KB\n"
          ],
          "name": "stdout"
        }
      ]
    },
    {
      "cell_type": "code",
      "metadata": {
        "colab": {
          "base_uri": "https://localhost:8080/",
          "height": 300
        },
        "id": "UztocRqfDPvL",
        "outputId": "64973368-af8a-4f32-b536-ba7ec3f79198"
      },
      "source": [
        "df.describe()"
      ],
      "execution_count": null,
      "outputs": [
        {
          "output_type": "execute_result",
          "data": {
            "text/html": [
              "<div>\n",
              "<style scoped>\n",
              "    .dataframe tbody tr th:only-of-type {\n",
              "        vertical-align: middle;\n",
              "    }\n",
              "\n",
              "    .dataframe tbody tr th {\n",
              "        vertical-align: top;\n",
              "    }\n",
              "\n",
              "    .dataframe thead th {\n",
              "        text-align: right;\n",
              "    }\n",
              "</style>\n",
              "<table border=\"1\" class=\"dataframe\">\n",
              "  <thead>\n",
              "    <tr style=\"text-align: right;\">\n",
              "      <th></th>\n",
              "      <th>Age</th>\n",
              "      <th>Height</th>\n",
              "      <th>Weight</th>\n",
              "      <th>FCVC</th>\n",
              "      <th>NCP</th>\n",
              "      <th>CH2O</th>\n",
              "      <th>FAF</th>\n",
              "      <th>TUE</th>\n",
              "    </tr>\n",
              "  </thead>\n",
              "  <tbody>\n",
              "    <tr>\n",
              "      <th>count</th>\n",
              "      <td>2111.000000</td>\n",
              "      <td>2111.000000</td>\n",
              "      <td>2111.000000</td>\n",
              "      <td>2111.000000</td>\n",
              "      <td>2111.000000</td>\n",
              "      <td>2111.000000</td>\n",
              "      <td>2111.000000</td>\n",
              "      <td>2111.000000</td>\n",
              "    </tr>\n",
              "    <tr>\n",
              "      <th>mean</th>\n",
              "      <td>24.312600</td>\n",
              "      <td>1.701677</td>\n",
              "      <td>86.586058</td>\n",
              "      <td>2.419043</td>\n",
              "      <td>2.685628</td>\n",
              "      <td>2.008011</td>\n",
              "      <td>1.010298</td>\n",
              "      <td>0.657866</td>\n",
              "    </tr>\n",
              "    <tr>\n",
              "      <th>std</th>\n",
              "      <td>6.345968</td>\n",
              "      <td>0.093305</td>\n",
              "      <td>26.191172</td>\n",
              "      <td>0.533927</td>\n",
              "      <td>0.778039</td>\n",
              "      <td>0.612953</td>\n",
              "      <td>0.850592</td>\n",
              "      <td>0.608927</td>\n",
              "    </tr>\n",
              "    <tr>\n",
              "      <th>min</th>\n",
              "      <td>14.000000</td>\n",
              "      <td>1.450000</td>\n",
              "      <td>39.000000</td>\n",
              "      <td>1.000000</td>\n",
              "      <td>1.000000</td>\n",
              "      <td>1.000000</td>\n",
              "      <td>0.000000</td>\n",
              "      <td>0.000000</td>\n",
              "    </tr>\n",
              "    <tr>\n",
              "      <th>25%</th>\n",
              "      <td>19.947192</td>\n",
              "      <td>1.630000</td>\n",
              "      <td>65.473343</td>\n",
              "      <td>2.000000</td>\n",
              "      <td>2.658738</td>\n",
              "      <td>1.584812</td>\n",
              "      <td>0.124505</td>\n",
              "      <td>0.000000</td>\n",
              "    </tr>\n",
              "    <tr>\n",
              "      <th>50%</th>\n",
              "      <td>22.777890</td>\n",
              "      <td>1.700499</td>\n",
              "      <td>83.000000</td>\n",
              "      <td>2.385502</td>\n",
              "      <td>3.000000</td>\n",
              "      <td>2.000000</td>\n",
              "      <td>1.000000</td>\n",
              "      <td>0.625350</td>\n",
              "    </tr>\n",
              "    <tr>\n",
              "      <th>75%</th>\n",
              "      <td>26.000000</td>\n",
              "      <td>1.768464</td>\n",
              "      <td>107.430682</td>\n",
              "      <td>3.000000</td>\n",
              "      <td>3.000000</td>\n",
              "      <td>2.477420</td>\n",
              "      <td>1.666678</td>\n",
              "      <td>1.000000</td>\n",
              "    </tr>\n",
              "    <tr>\n",
              "      <th>max</th>\n",
              "      <td>61.000000</td>\n",
              "      <td>1.980000</td>\n",
              "      <td>173.000000</td>\n",
              "      <td>3.000000</td>\n",
              "      <td>4.000000</td>\n",
              "      <td>3.000000</td>\n",
              "      <td>3.000000</td>\n",
              "      <td>2.000000</td>\n",
              "    </tr>\n",
              "  </tbody>\n",
              "</table>\n",
              "</div>"
            ],
            "text/plain": [
              "               Age       Height  ...          FAF          TUE\n",
              "count  2111.000000  2111.000000  ...  2111.000000  2111.000000\n",
              "mean     24.312600     1.701677  ...     1.010298     0.657866\n",
              "std       6.345968     0.093305  ...     0.850592     0.608927\n",
              "min      14.000000     1.450000  ...     0.000000     0.000000\n",
              "25%      19.947192     1.630000  ...     0.124505     0.000000\n",
              "50%      22.777890     1.700499  ...     1.000000     0.625350\n",
              "75%      26.000000     1.768464  ...     1.666678     1.000000\n",
              "max      61.000000     1.980000  ...     3.000000     2.000000\n",
              "\n",
              "[8 rows x 8 columns]"
            ]
          },
          "metadata": {},
          "execution_count": 158
        }
      ]
    },
    {
      "cell_type": "code",
      "metadata": {
        "colab": {
          "base_uri": "https://localhost:8080/"
        },
        "id": "YXogqghODVgX",
        "outputId": "ca77c1cd-3a1e-477c-8978-5b03588fed0a"
      },
      "source": [
        "df.isnull().sum()"
      ],
      "execution_count": null,
      "outputs": [
        {
          "output_type": "execute_result",
          "data": {
            "text/plain": [
              "Gender                            0\n",
              "Age                               0\n",
              "Height                            0\n",
              "Weight                            0\n",
              "family_history_with_overweight    0\n",
              "FAVC                              0\n",
              "FCVC                              0\n",
              "NCP                               0\n",
              "CAEC                              0\n",
              "SMOKE                             0\n",
              "CH2O                              0\n",
              "SCC                               0\n",
              "FAF                               0\n",
              "TUE                               0\n",
              "CALC                              0\n",
              "MTRANS                            0\n",
              "NObeyesdad                        0\n",
              "dtype: int64"
            ]
          },
          "metadata": {},
          "execution_count": 159
        }
      ]
    },
    {
      "cell_type": "code",
      "metadata": {
        "colab": {
          "base_uri": "https://localhost:8080/"
        },
        "id": "Ng9KNXYzEZ89",
        "outputId": "c2a771b2-2060-40ba-d340-1bac70a6c1d5"
      },
      "source": [
        "df.info()"
      ],
      "execution_count": null,
      "outputs": [
        {
          "output_type": "stream",
          "text": [
            "<class 'pandas.core.frame.DataFrame'>\n",
            "RangeIndex: 2111 entries, 0 to 2110\n",
            "Data columns (total 17 columns):\n",
            " #   Column                          Non-Null Count  Dtype  \n",
            "---  ------                          --------------  -----  \n",
            " 0   Gender                          2111 non-null   object \n",
            " 1   Age                             2111 non-null   float64\n",
            " 2   Height                          2111 non-null   float64\n",
            " 3   Weight                          2111 non-null   float64\n",
            " 4   family_history_with_overweight  2111 non-null   object \n",
            " 5   FAVC                            2111 non-null   object \n",
            " 6   FCVC                            2111 non-null   float64\n",
            " 7   NCP                             2111 non-null   float64\n",
            " 8   CAEC                            2111 non-null   object \n",
            " 9   SMOKE                           2111 non-null   object \n",
            " 10  CH2O                            2111 non-null   float64\n",
            " 11  SCC                             2111 non-null   object \n",
            " 12  FAF                             2111 non-null   float64\n",
            " 13  TUE                             2111 non-null   float64\n",
            " 14  CALC                            2111 non-null   object \n",
            " 15  MTRANS                          2111 non-null   object \n",
            " 16  NObeyesdad                      2111 non-null   object \n",
            "dtypes: float64(8), object(9)\n",
            "memory usage: 280.5+ KB\n"
          ],
          "name": "stdout"
        }
      ]
    },
    {
      "cell_type": "code",
      "metadata": {
        "colab": {
          "base_uri": "https://localhost:8080/"
        },
        "id": "97ia4rh8vi6Q",
        "outputId": "116883c1-59d3-494d-9b65-61325ad382cc"
      },
      "source": [
        "df['Gender'].unique()"
      ],
      "execution_count": null,
      "outputs": [
        {
          "output_type": "execute_result",
          "data": {
            "text/plain": [
              "array(['Female', 'Male'], dtype=object)"
            ]
          },
          "metadata": {},
          "execution_count": 161
        }
      ]
    },
    {
      "cell_type": "code",
      "metadata": {
        "colab": {
          "base_uri": "https://localhost:8080/"
        },
        "id": "ElaOt6F3vmqr",
        "outputId": "54f4899a-445a-4c87-de95-e0107e7aa610"
      },
      "source": [
        "df['family_history_with_overweight'].unique()"
      ],
      "execution_count": null,
      "outputs": [
        {
          "output_type": "execute_result",
          "data": {
            "text/plain": [
              "array(['yes', 'no'], dtype=object)"
            ]
          },
          "metadata": {},
          "execution_count": 162
        }
      ]
    },
    {
      "cell_type": "code",
      "metadata": {
        "colab": {
          "base_uri": "https://localhost:8080/"
        },
        "id": "lwGN6hJZvwdV",
        "outputId": "ea634a40-dc39-424b-f9f3-fc6c219a7d34"
      },
      "source": [
        "df['FAVC'].unique()"
      ],
      "execution_count": null,
      "outputs": [
        {
          "output_type": "execute_result",
          "data": {
            "text/plain": [
              "array(['no', 'yes'], dtype=object)"
            ]
          },
          "metadata": {},
          "execution_count": 163
        }
      ]
    },
    {
      "cell_type": "code",
      "metadata": {
        "colab": {
          "base_uri": "https://localhost:8080/"
        },
        "id": "XG79_FnTv4Re",
        "outputId": "44bf1347-a92c-40e6-b2ae-1dafb31f871c"
      },
      "source": [
        "df['CAEC'].unique()"
      ],
      "execution_count": null,
      "outputs": [
        {
          "output_type": "execute_result",
          "data": {
            "text/plain": [
              "array(['Sometimes', 'Frequently', 'Always', 'no'], dtype=object)"
            ]
          },
          "metadata": {},
          "execution_count": 164
        }
      ]
    },
    {
      "cell_type": "code",
      "metadata": {
        "colab": {
          "base_uri": "https://localhost:8080/"
        },
        "id": "-EtIZRuGv_8x",
        "outputId": "4ac380bc-2bee-42af-845b-7868cd175f62"
      },
      "source": [
        "df['SMOKE'].unique()"
      ],
      "execution_count": null,
      "outputs": [
        {
          "output_type": "execute_result",
          "data": {
            "text/plain": [
              "array(['no', 'yes'], dtype=object)"
            ]
          },
          "metadata": {},
          "execution_count": 165
        }
      ]
    },
    {
      "cell_type": "code",
      "metadata": {
        "colab": {
          "base_uri": "https://localhost:8080/"
        },
        "id": "jlEuTmv7wFqK",
        "outputId": "9406ff83-4de5-456f-a283-b452a5990a2f"
      },
      "source": [
        "df['SCC'].unique()"
      ],
      "execution_count": null,
      "outputs": [
        {
          "output_type": "execute_result",
          "data": {
            "text/plain": [
              "array(['no', 'yes'], dtype=object)"
            ]
          },
          "metadata": {},
          "execution_count": 166
        }
      ]
    },
    {
      "cell_type": "code",
      "metadata": {
        "colab": {
          "base_uri": "https://localhost:8080/"
        },
        "id": "jkDmWpwrwHXe",
        "outputId": "44b3066e-ad27-487e-b4a1-3ea3bad4deb5"
      },
      "source": [
        "df['CALC'].unique()"
      ],
      "execution_count": null,
      "outputs": [
        {
          "output_type": "execute_result",
          "data": {
            "text/plain": [
              "array(['no', 'Sometimes', 'Frequently', 'Always'], dtype=object)"
            ]
          },
          "metadata": {},
          "execution_count": 16
        }
      ]
    },
    {
      "cell_type": "code",
      "metadata": {
        "colab": {
          "base_uri": "https://localhost:8080/"
        },
        "id": "QU-nMadkwJpf",
        "outputId": "3e2891c5-88f7-437c-ef5f-dc9a3d6ee3fb"
      },
      "source": [
        "df['MTRANS'].unique()"
      ],
      "execution_count": null,
      "outputs": [
        {
          "output_type": "execute_result",
          "data": {
            "text/plain": [
              "array(['Public_Transportation', 'Walking', 'Automobile', 'Motorbike',\n",
              "       'Bike'], dtype=object)"
            ]
          },
          "metadata": {},
          "execution_count": 17
        }
      ]
    },
    {
      "cell_type": "code",
      "metadata": {
        "id": "_MkZW45WwuU6"
      },
      "source": [
        ""
      ],
      "execution_count": null,
      "outputs": []
    },
    {
      "cell_type": "markdown",
      "metadata": {
        "id": "OG1F6cjxwvZM"
      },
      "source": [
        "## Univariate Analysis"
      ]
    },
    {
      "cell_type": "code",
      "metadata": {
        "colab": {
          "base_uri": "https://localhost:8080/"
        },
        "id": "ISFmnVdvxp33",
        "outputId": "b3cec98f-9278-4da4-d6fd-9e1cef79dadc"
      },
      "source": [
        "df.dtypes"
      ],
      "execution_count": null,
      "outputs": [
        {
          "output_type": "execute_result",
          "data": {
            "text/plain": [
              "Gender                             object\n",
              "Age                               float64\n",
              "Height                            float64\n",
              "Weight                            float64\n",
              "family_history_with_overweight     object\n",
              "FAVC                               object\n",
              "FCVC                              float64\n",
              "NCP                               float64\n",
              "CAEC                               object\n",
              "SMOKE                              object\n",
              "CH2O                              float64\n",
              "SCC                                object\n",
              "FAF                               float64\n",
              "TUE                               float64\n",
              "CALC                               object\n",
              "MTRANS                             object\n",
              "NObeyesdad                         object\n",
              "dtype: object"
            ]
          },
          "metadata": {},
          "execution_count": 18
        }
      ]
    },
    {
      "cell_type": "code",
      "metadata": {
        "colab": {
          "base_uri": "https://localhost:8080/",
          "height": 335
        },
        "id": "wvQe0hGhwyU1",
        "outputId": "7c4c8938-e54a-4a2a-829b-32c01c2fffb8"
      },
      "source": [
        "plt.figure(figsize=(18,6))\n",
        "sns.countplot(x='NObeyesdad', data=df)"
      ],
      "execution_count": null,
      "outputs": [
        {
          "output_type": "execute_result",
          "data": {
            "text/plain": [
              "<matplotlib.axes._subplots.AxesSubplot at 0x7f9c8c7835d0>"
            ]
          },
          "metadata": {},
          "execution_count": 19
        },
        {
          "output_type": "display_data",
          "data": {
            "image/png": "[encoded data removed]",
            "text/plain": [
              "<Figure size 1296x432 with 1 Axes>"
            ]
          },
          "metadata": {
            "needs_background": "light"
          }
        }
      ]
    },
    {
      "cell_type": "code",
      "metadata": {
        "colab": {
          "base_uri": "https://localhost:8080/",
          "height": 297
        },
        "id": "mA8eqsnjxSBz",
        "outputId": "48f9330a-f633-47e9-e8b8-4aa0928e07e5"
      },
      "source": [
        "sns.countplot(x='SCC', data=df)"
      ],
      "execution_count": null,
      "outputs": [
        {
          "output_type": "execute_result",
          "data": {
            "text/plain": [
              "<matplotlib.axes._subplots.AxesSubplot at 0x7f9c8c686890>"
            ]
          },
          "metadata": {},
          "execution_count": 20
        },
        {
          "output_type": "display_data",
          "data": {
            "image/png": "[encoded data removed]",
            "text/plain": [
              "<Figure size 432x288 with 1 Axes>"
            ]
          },
          "metadata": {
            "needs_background": "light"
          }
        }
      ]
    },
    {
      "cell_type": "code",
      "metadata": {
        "colab": {
          "base_uri": "https://localhost:8080/",
          "height": 297
        },
        "id": "VijccMbexacx",
        "outputId": "e0f89b01-e604-4f90-96c0-bc7e51c68f98"
      },
      "source": [
        "sns.countplot(x='FAVC', data=df)"
      ],
      "execution_count": null,
      "outputs": [
        {
          "output_type": "execute_result",
          "data": {
            "text/plain": [
              "<matplotlib.axes._subplots.AxesSubplot at 0x7f9c8c1ee350>"
            ]
          },
          "metadata": {},
          "execution_count": 21
        },
        {
          "output_type": "display_data",
          "data": {
            "image/png": "[encoded data removed]",
            "text/plain": [
              "<Figure size 432x288 with 1 Axes>"
            ]
          },
          "metadata": {
            "needs_background": "light"
          }
        }
      ]
    },
    {
      "cell_type": "code",
      "metadata": {
        "colab": {
          "base_uri": "https://localhost:8080/",
          "height": 407
        },
        "id": "WQVQO9fhw0Ag",
        "outputId": "2b8812d2-0e6d-4a25-e13f-51514ff08e10"
      },
      "source": [
        "plt.figure(figsize=(12,6))\n",
        "sns.countplot(x='MTRANS',data=df)"
      ],
      "execution_count": null,
      "outputs": [
        {
          "output_type": "execute_result",
          "data": {
            "text/plain": [
              "<matplotlib.axes._subplots.AxesSubplot at 0x7f9c8c168e50>"
            ]
          },
          "metadata": {},
          "execution_count": 22
        },
        {
          "output_type": "display_data",
          "data": {
            "image/png": "[encoded data removed]",
            "text/plain": [
              "<Figure size 864x432 with 1 Axes>"
            ]
          },
          "metadata": {
            "needs_background": "light"
          }
        }
      ]
    },
    {
      "cell_type": "code",
      "metadata": {
        "colab": {
          "base_uri": "https://localhost:8080/",
          "height": 297
        },
        "id": "6kvjQYrMx7Th",
        "outputId": "f848c699-fffa-45ed-8196-e44ed4ceb47c"
      },
      "source": [
        "sns.countplot(x='SMOKE',data=df)"
      ],
      "execution_count": null,
      "outputs": [
        {
          "output_type": "execute_result",
          "data": {
            "text/plain": [
              "<matplotlib.axes._subplots.AxesSubplot at 0x7f9c8c0d6290>"
            ]
          },
          "metadata": {},
          "execution_count": 23
        },
        {
          "output_type": "display_data",
          "data": {
            "image/png": "[encoded data removed]",
            "text/plain": [
              "<Figure size 432x288 with 1 Axes>"
            ]
          },
          "metadata": {
            "needs_background": "light"
          }
        }
      ]
    },
    {
      "cell_type": "code",
      "metadata": {
        "colab": {
          "base_uri": "https://localhost:8080/",
          "height": 297
        },
        "id": "VREJWTKcyIRF",
        "outputId": "0f7a0e92-8528-40d5-c136-7b310aff5450"
      },
      "source": [
        "sns.countplot(x='family_history_with_overweight',data=df)"
      ],
      "execution_count": null,
      "outputs": [
        {
          "output_type": "execute_result",
          "data": {
            "text/plain": [
              "<matplotlib.axes._subplots.AxesSubplot at 0x7f9c8d58ac50>"
            ]
          },
          "metadata": {},
          "execution_count": 24
        },
        {
          "output_type": "display_data",
          "data": {
            "image/png": "[encoded data removed]",
            "text/plain": [
              "<Figure size 432x288 with 1 Axes>"
            ]
          },
          "metadata": {
            "needs_background": "light"
          }
        }
      ]
    },
    {
      "cell_type": "code",
      "metadata": {
        "colab": {
          "base_uri": "https://localhost:8080/",
          "height": 297
        },
        "id": "ja9x4aDIyTJV",
        "outputId": "1ad13091-1cf7-4994-aaf1-8794b037b00f"
      },
      "source": [
        "sns.countplot(x='CALC',data=df)"
      ],
      "execution_count": null,
      "outputs": [
        {
          "output_type": "execute_result",
          "data": {
            "text/plain": [
              "<matplotlib.axes._subplots.AxesSubplot at 0x7f9c8c00d250>"
            ]
          },
          "metadata": {},
          "execution_count": 25
        },
        {
          "output_type": "display_data",
          "data": {
            "image/png": "[encoded data removed]",
            "text/plain": [
              "<Figure size 432x288 with 1 Axes>"
            ]
          },
          "metadata": {
            "needs_background": "light"
          }
        }
      ]
    },
    {
      "cell_type": "code",
      "metadata": {
        "colab": {
          "base_uri": "https://localhost:8080/",
          "height": 297
        },
        "id": "MdhCgSYTyfgr",
        "outputId": "f037afa2-7771-4f2a-b8f8-e85780d41e99"
      },
      "source": [
        "sns.countplot(x='CAEC',data=df)"
      ],
      "execution_count": null,
      "outputs": [
        {
          "output_type": "execute_result",
          "data": {
            "text/plain": [
              "<matplotlib.axes._subplots.AxesSubplot at 0x7f9c8bf79810>"
            ]
          },
          "metadata": {},
          "execution_count": 26
        },
        {
          "output_type": "display_data",
          "data": {
            "image/png": "[encoded data removed]",
            "text/plain": [
              "<Figure size 432x288 with 1 Axes>"
            ]
          },
          "metadata": {
            "needs_background": "light"
          }
        }
      ]
    },
    {
      "cell_type": "code",
      "metadata": {
        "colab": {
          "base_uri": "https://localhost:8080/",
          "height": 297
        },
        "id": "cTf0_oGIC3YN",
        "outputId": "d349e342-0ec9-48d8-c092-f38903b4c0da"
      },
      "source": [
        "sns.countplot(x='family_history_with_overweight',data=df)"
      ],
      "execution_count": null,
      "outputs": [
        {
          "output_type": "execute_result",
          "data": {
            "text/plain": [
              "<matplotlib.axes._subplots.AxesSubplot at 0x7f9c8c00de90>"
            ]
          },
          "metadata": {},
          "execution_count": 27
        },
        {
          "output_type": "display_data",
          "data": {
            "image/png": "[encoded data removed]",
            "text/plain": [
              "<Figure size 432x288 with 1 Axes>"
            ]
          },
          "metadata": {
            "needs_background": "light"
          }
        }
      ]
    },
    {
      "cell_type": "code",
      "metadata": {
        "id": "Jt6VmvTdEFW4"
      },
      "source": [
        ""
      ],
      "execution_count": null,
      "outputs": []
    },
    {
      "cell_type": "code",
      "metadata": {
        "id": "bGACrDGCyO3Z"
      },
      "source": [
        ""
      ],
      "execution_count": null,
      "outputs": []
    },
    {
      "cell_type": "markdown",
      "metadata": {
        "id": "q1L6E9uuyPsw"
      },
      "source": [
        "## BiVariate Analysis"
      ]
    },
    {
      "cell_type": "markdown",
      "metadata": {
        "id": "6yi1Yvn4rvG0"
      },
      "source": [
        "<h3>Bi-variate Analysis</h3>\n",
        "<p>Here we plot graphs that shows the relation between the independent attributes and target variable. We mainly consider the tearget variable as UnderWeight, Normal Weight, Overweight, Obese</p>"
      ]
    },
    {
      "cell_type": "code",
      "metadata": {
        "colab": {
          "base_uri": "https://localhost:8080/"
        },
        "id": "5heasGXp0r4V",
        "outputId": "f363ad3a-a9fb-40f5-e574-1020f3176922"
      },
      "source": [
        "df['NObeyesdad'].unique()"
      ],
      "execution_count": null,
      "outputs": [
        {
          "output_type": "execute_result",
          "data": {
            "text/plain": [
              "array(['Normal_Weight', 'Overweight_Level_I', 'Overweight_Level_II',\n",
              "       'Obesity_Type_I', 'Insufficient_Weight', 'Obesity_Type_II',\n",
              "       'Obesity_Type_III'], dtype=object)"
            ]
          },
          "metadata": {},
          "execution_count": 28
        }
      ]
    },
    {
      "cell_type": "code",
      "metadata": {
        "id": "vVj5j6Yf1N5c"
      },
      "source": [
        "df_manip = df.replace({'NObeyesdad':\n",
        "                       {'Overweight_Level_I':'Overweight',\n",
        "                        'Overweight_Level_II':'Overweight',\n",
        "                        'Obesity_Type_I':'Obese',\n",
        "                        'Obesity_Type_II':'Obese',\n",
        "                        'Obesity_Type_III':'Obese'\n",
        "                        }})"
      ],
      "execution_count": null,
      "outputs": []
    },
    {
      "cell_type": "code",
      "metadata": {
        "colab": {
          "base_uri": "https://localhost:8080/"
        },
        "id": "44O6rdtU2aIP",
        "outputId": "cab76635-447a-4e6d-8e85-f17298909b26"
      },
      "source": [
        "df['NObeyesdad'].unique()"
      ],
      "execution_count": null,
      "outputs": [
        {
          "output_type": "execute_result",
          "data": {
            "text/plain": [
              "array(['Normal_Weight', 'Overweight_Level_I', 'Overweight_Level_II',\n",
              "       'Obesity_Type_I', 'Insufficient_Weight', 'Obesity_Type_II',\n",
              "       'Obesity_Type_III'], dtype=object)"
            ]
          },
          "metadata": {},
          "execution_count": 30
        }
      ]
    },
    {
      "cell_type": "code",
      "metadata": {
        "colab": {
          "base_uri": "https://localhost:8080/"
        },
        "id": "WbulMShF2dq7",
        "outputId": "cd88ebad-7340-42d5-8784-2e39686f31ea"
      },
      "source": [
        "df_manip['NObeyesdad'].unique()"
      ],
      "execution_count": null,
      "outputs": [
        {
          "output_type": "execute_result",
          "data": {
            "text/plain": [
              "array(['Normal_Weight', 'Overweight', 'Obese', 'Insufficient_Weight'],\n",
              "      dtype=object)"
            ]
          },
          "metadata": {},
          "execution_count": 31
        }
      ]
    },
    {
      "cell_type": "code",
      "metadata": {
        "colab": {
          "base_uri": "https://localhost:8080/",
          "height": 360
        },
        "id": "-nVRktfg2zNW",
        "outputId": "4610fd12-13dd-4a2f-bde8-be6848e25748"
      },
      "source": [
        "pd.crosstab(df_manip['Gender'],df_manip['NObeyesdad']).plot(kind='bar',stacked=False, figsize=(18,6)) \n",
        "## Relation Between Gender and Obesity for manipulated data"
      ],
      "execution_count": null,
      "outputs": [
        {
          "output_type": "execute_result",
          "data": {
            "text/plain": [
              "<matplotlib.axes._subplots.AxesSubplot at 0x7f9c8bc0ec50>"
            ]
          },
          "metadata": {},
          "execution_count": 32
        },
        {
          "output_type": "display_data",
          "data": {
            "image/png": "[encoded data removed]",
            "text/plain": [
              "<Figure size 1296x432 with 1 Axes>"
            ]
          },
          "metadata": {
            "needs_background": "light"
          }
        }
      ]
    },
    {
      "cell_type": "code",
      "metadata": {
        "colab": {
          "base_uri": "https://localhost:8080/",
          "height": 413
        },
        "id": "0dl0u5ft3ww9",
        "outputId": "05f66b14-aaf5-4dd0-8634-77c6953807c8"
      },
      "source": [
        "pd.crosstab(df_manip['family_history_with_overweight'], df_manip['NObeyesdad']).plot(kind='bar',stacked=False,figsize=(12,6))"
      ],
      "execution_count": null,
      "outputs": [
        {
          "output_type": "execute_result",
          "data": {
            "text/plain": [
              "<matplotlib.axes._subplots.AxesSubplot at 0x7f9c8bb40810>"
            ]
          },
          "metadata": {},
          "execution_count": 33
        },
        {
          "output_type": "display_data",
          "data": {
            "image/png": "[encoded data removed]",
            "text/plain": [
              "<Figure size 864x432 with 1 Axes>"
            ]
          },
          "metadata": {
            "needs_background": "light"
          }
        }
      ]
    },
    {
      "cell_type": "code",
      "metadata": {
        "colab": {
          "base_uri": "https://localhost:8080/",
          "height": 501
        },
        "id": "LA6iHCUnuKXg",
        "outputId": "728b03de-2691-49b9-a4eb-aa12a69abc5b"
      },
      "source": [
        "plt.figure(figsize=(15,8))\n",
        "sns.barplot(x='NObeyesdad', y='Age',data=df) ## Relation between Obesity and Age in non-manipulated data"
      ],
      "execution_count": null,
      "outputs": [
        {
          "output_type": "execute_result",
          "data": {
            "text/plain": [
              "<matplotlib.axes._subplots.AxesSubplot at 0x7f9c8bac0d50>"
            ]
          },
          "metadata": {},
          "execution_count": 34
        },
        {
          "output_type": "display_data",
          "data": {
            "image/png": "[encoded data removed]",
            "text/plain": [
              "<Figure size 1080x576 with 1 Axes>"
            ]
          },
          "metadata": {
            "needs_background": "light"
          }
        }
      ]
    },
    {
      "cell_type": "code",
      "metadata": {
        "colab": {
          "base_uri": "https://localhost:8080/",
          "height": 500
        },
        "id": "ITm6fWmBtjPh",
        "outputId": "f107ea49-7253-4da7-8abe-9743f21f286c"
      },
      "source": [
        "plt.figure(figsize=(15,8))\n",
        "sns.barplot(x='NObeyesdad', y='Age',data=df_manip) ## Relation between Obesity and Age in non-manipulated data"
      ],
      "execution_count": null,
      "outputs": [
        {
          "output_type": "execute_result",
          "data": {
            "text/plain": [
              "<matplotlib.axes._subplots.AxesSubplot at 0x7f9c8ba4e090>"
            ]
          },
          "metadata": {},
          "execution_count": 35
        },
        {
          "output_type": "display_data",
          "data": {
            "image/png": "[encoded data removed]",
            "text/plain": [
              "<Figure size 1080x576 with 1 Axes>"
            ]
          },
          "metadata": {
            "needs_background": "light"
          }
        }
      ]
    },
    {
      "cell_type": "code",
      "metadata": {
        "id": "jpJmeG9VeRz_"
      },
      "source": [
        ""
      ],
      "execution_count": null,
      "outputs": []
    },
    {
      "cell_type": "code",
      "metadata": {
        "colab": {
          "base_uri": "https://localhost:8080/",
          "height": 413
        },
        "id": "1-_z8vu45Ff3",
        "outputId": "680e2540-9678-4d04-eadd-a8f897dbab50"
      },
      "source": [
        "pd.crosstab(df['SMOKE'],df['NObeyesdad']).plot(kind='bar',stacked=False,figsize=(12,6))"
      ],
      "execution_count": null,
      "outputs": [
        {
          "output_type": "execute_result",
          "data": {
            "text/plain": [
              "<matplotlib.axes._subplots.AxesSubplot at 0x7f9c8b9d4250>"
            ]
          },
          "metadata": {},
          "execution_count": 36
        },
        {
          "output_type": "display_data",
          "data": {
            "image/png": "[encoded data removed]",
            "text/plain": [
              "<Figure size 864x432 with 1 Axes>"
            ]
          },
          "metadata": {
            "needs_background": "light"
          }
        }
      ]
    },
    {
      "cell_type": "code",
      "metadata": {
        "colab": {
          "base_uri": "https://localhost:8080/",
          "height": 413
        },
        "id": "YugU64fF5rQP",
        "outputId": "6ac29b73-4a66-4445-ef33-bfacb80acc85"
      },
      "source": [
        "pd.crosstab(df_manip['SMOKE'],df_manip['NObeyesdad']).plot(kind='bar',stacked=False,figsize=(12,6)) \n",
        "## This is due to less presence of less amount of Smokers"
      ],
      "execution_count": null,
      "outputs": [
        {
          "output_type": "execute_result",
          "data": {
            "text/plain": [
              "<matplotlib.axes._subplots.AxesSubplot at 0x7f9c8b9cdf90>"
            ]
          },
          "metadata": {},
          "execution_count": 37
        },
        {
          "output_type": "display_data",
          "data": {
            "image/png": "[encoded data removed]",
            "text/plain": [
              "<Figure size 864x432 with 1 Axes>"
            ]
          },
          "metadata": {
            "needs_background": "light"
          }
        }
      ]
    },
    {
      "cell_type": "code",
      "metadata": {
        "colab": {
          "base_uri": "https://localhost:8080/",
          "height": 407
        },
        "id": "SYwp8y0f69df",
        "outputId": "666770f5-4524-4790-d714-efde69141733"
      },
      "source": [
        "plt.figure(figsize=(12,6))\n",
        "sns.barplot(x='NObeyesdad',y='Height',data=df)"
      ],
      "execution_count": null,
      "outputs": [
        {
          "output_type": "execute_result",
          "data": {
            "text/plain": [
              "<matplotlib.axes._subplots.AxesSubplot at 0x7f9c8ba22190>"
            ]
          },
          "metadata": {},
          "execution_count": 38
        },
        {
          "output_type": "display_data",
          "data": {
            "image/png": "[encoded data removed]",
            "text/plain": [
              "<Figure size 864x432 with 1 Axes>"
            ]
          },
          "metadata": {
            "needs_background": "light"
          }
        }
      ]
    },
    {
      "cell_type": "code",
      "metadata": {
        "colab": {
          "base_uri": "https://localhost:8080/",
          "height": 407
        },
        "id": "B_1NCzvO7RGM",
        "outputId": "406b85e6-0744-43e4-f01e-a434b26ba3d8"
      },
      "source": [
        "plt.figure(figsize=(12,6))\n",
        "sns.barplot(x='NObeyesdad',y='Height',data=df_manip)"
      ],
      "execution_count": null,
      "outputs": [
        {
          "output_type": "execute_result",
          "data": {
            "text/plain": [
              "<matplotlib.axes._subplots.AxesSubplot at 0x7f9c8b9ba590>"
            ]
          },
          "metadata": {},
          "execution_count": 39
        },
        {
          "output_type": "display_data",
          "data": {
            "image/png": "[encoded data removed]",
            "text/plain": [
              "<Figure size 864x432 with 1 Axes>"
            ]
          },
          "metadata": {
            "needs_background": "light"
          }
        }
      ]
    },
    {
      "cell_type": "code",
      "metadata": {
        "colab": {
          "base_uri": "https://localhost:8080/",
          "height": 407
        },
        "id": "kGbfMN566zoV",
        "outputId": "bdb82c48-4dab-4d61-d6c1-285a8e437c60"
      },
      "source": [
        "plt.figure(figsize=(12,6))\n",
        "sns.barplot(x='NObeyesdad',y='CH2O',data=df_manip)"
      ],
      "execution_count": null,
      "outputs": [
        {
          "output_type": "execute_result",
          "data": {
            "text/plain": [
              "<matplotlib.axes._subplots.AxesSubplot at 0x7f9c8ba3c190>"
            ]
          },
          "metadata": {},
          "execution_count": 40
        },
        {
          "output_type": "display_data",
          "data": {
            "image/png": "[encoded data removed]",
            "text/plain": [
              "<Figure size 864x432 with 1 Axes>"
            ]
          },
          "metadata": {
            "needs_background": "light"
          }
        }
      ]
    },
    {
      "cell_type": "code",
      "metadata": {
        "colab": {
          "base_uri": "https://localhost:8080/",
          "height": 407
        },
        "id": "Nezrh8zf9v4Q",
        "outputId": "ca6c6989-fa4a-4feb-8ca3-e66cb817e830"
      },
      "source": [
        "plt.figure(figsize=(12,6))\n",
        "sns.barplot(x='NObeyesdad',y='CH2O',data=df)"
      ],
      "execution_count": null,
      "outputs": [
        {
          "output_type": "execute_result",
          "data": {
            "text/plain": [
              "<matplotlib.axes._subplots.AxesSubplot at 0x7f9c8ba5dad0>"
            ]
          },
          "metadata": {},
          "execution_count": 41
        },
        {
          "output_type": "display_data",
          "data": {
            "image/png": "[encoded data removed]",
            "text/plain": [
              "<Figure size 864x432 with 1 Axes>"
            ]
          },
          "metadata": {
            "needs_background": "light"
          }
        }
      ]
    },
    {
      "cell_type": "code",
      "metadata": {
        "colab": {
          "base_uri": "https://localhost:8080/",
          "height": 407
        },
        "id": "eeONNZBt8h6M",
        "outputId": "68ce6176-9ccf-4d44-d3f4-90942eea43da"
      },
      "source": [
        "plt.figure(figsize=(12,6))\n",
        "sns.barplot(x='NObeyesdad',y='FAF',data=df)"
      ],
      "execution_count": null,
      "outputs": [
        {
          "output_type": "execute_result",
          "data": {
            "text/plain": [
              "<matplotlib.axes._subplots.AxesSubplot at 0x7f9c8b7b9350>"
            ]
          },
          "metadata": {},
          "execution_count": 42
        },
        {
          "output_type": "display_data",
          "data": {
            "image/png": "[encoded data removed]",
            "text/plain": [
              "<Figure size 864x432 with 1 Axes>"
            ]
          },
          "metadata": {
            "needs_background": "light"
          }
        }
      ]
    },
    {
      "cell_type": "code",
      "metadata": {
        "colab": {
          "base_uri": "https://localhost:8080/",
          "height": 407
        },
        "id": "gfILGwz08kgs",
        "outputId": "29c6ecf4-e471-4374-98b6-c7e88345adbd"
      },
      "source": [
        "plt.figure(figsize=(12,6))\n",
        "sns.barplot(x='NObeyesdad',y='TUE',data=df_manip)"
      ],
      "execution_count": null,
      "outputs": [
        {
          "output_type": "execute_result",
          "data": {
            "text/plain": [
              "<matplotlib.axes._subplots.AxesSubplot at 0x7f9c8b893a10>"
            ]
          },
          "metadata": {},
          "execution_count": 43
        },
        {
          "output_type": "display_data",
          "data": {
            "image/png": "[encoded data removed]",
            "text/plain": [
              "<Figure size 864x432 with 1 Axes>"
            ]
          },
          "metadata": {
            "needs_background": "light"
          }
        }
      ]
    },
    {
      "cell_type": "code",
      "metadata": {
        "colab": {
          "base_uri": "https://localhost:8080/"
        },
        "id": "jJaytgV3Eam4",
        "outputId": "0a9cdba9-ad0a-440f-fdc8-04deec1148ec"
      },
      "source": [
        "df['TUE'].unique()"
      ],
      "execution_count": null,
      "outputs": [
        {
          "output_type": "execute_result",
          "data": {
            "text/plain": [
              "array([1.      , 0.      , 2.      , ..., 0.646288, 0.586035, 0.714137])"
            ]
          },
          "metadata": {},
          "execution_count": 44
        }
      ]
    },
    {
      "cell_type": "code",
      "metadata": {
        "colab": {
          "base_uri": "https://localhost:8080/",
          "height": 417
        },
        "id": "K5AZTuvTE6mC",
        "outputId": "cb7ad94d-ac5d-4205-dbdc-f6b90e03de77"
      },
      "source": [
        "df_manip.groupby(['family_history_with_overweight','NObeyesdad'])['NObeyesdad'].count().plot(kind='bar')"
      ],
      "execution_count": null,
      "outputs": [
        {
          "output_type": "execute_result",
          "data": {
            "text/plain": [
              "<matplotlib.axes._subplots.AxesSubplot at 0x7f9c8b599550>"
            ]
          },
          "metadata": {},
          "execution_count": 45
        },
        {
          "output_type": "display_data",
          "data": {
            "image/png": "[encoded data removed]",
            "text/plain": [
              "<Figure size 432x288 with 1 Axes>"
            ]
          },
          "metadata": {
            "needs_background": "light"
          }
        }
      ]
    },
    {
      "cell_type": "code",
      "metadata": {
        "colab": {
          "base_uri": "https://localhost:8080/",
          "height": 351
        },
        "id": "nPQyiQnzEvs5",
        "outputId": "ef3ea5e1-eae8-4947-f320-b52000b1deec"
      },
      "source": [
        "sns.regplot(df['Height'], df['Weight'])"
      ],
      "execution_count": null,
      "outputs": [
        {
          "output_type": "stream",
          "text": [
            "/usr/local/lib/python3.7/dist-packages/seaborn/_decorators.py:43: FutureWarning: Pass the following variables as keyword args: x, y. From version 0.12, the only valid positional argument will be `data`, and passing other arguments without an explicit keyword will result in an error or misinterpretation.\n",
            "  FutureWarning\n"
          ],
          "name": "stderr"
        },
        {
          "output_type": "execute_result",
          "data": {
            "text/plain": [
              "<matplotlib.axes._subplots.AxesSubplot at 0x7f9c8b50e810>"
            ]
          },
          "metadata": {},
          "execution_count": 46
        },
        {
          "output_type": "display_data",
          "data": {
            "image/png": "[encoded data removed]",
            "text/plain": [
              "<Figure size 432x288 with 1 Axes>"
            ]
          },
          "metadata": {
            "needs_background": "light"
          }
        }
      ]
    },
    {
      "cell_type": "markdown",
      "metadata": {
        "id": "dlMPPz_G-VNy"
      },
      "source": [
        "Gender                             object\n",
        "Age                               float64\n",
        "Height                            float64\n",
        "Weight                            float64\n",
        "family_history_with_overweight     object\n",
        "FAVC                               object\n",
        "FCVC                              float64\n",
        "NCP                               float64\n",
        "CAEC                               object\n",
        "SMOKE                              object\n",
        "CH2O                              float64\n",
        "SCC                                object\n",
        "FAF                               float64\n",
        "TUE                               float64\n",
        "CALC                               object\n",
        "MTRANS                             object\n",
        "NObeyesdad                         object"
      ]
    },
    {
      "cell_type": "code",
      "metadata": {
        "colab": {
          "base_uri": "https://localhost:8080/",
          "height": 407
        },
        "id": "Fs2-pTYB9-HT",
        "outputId": "d2bc2e28-66ec-45f9-e0bc-18d76695a309"
      },
      "source": [
        "plt.figure(figsize=(12,6))\n",
        "sns.barplot(x='NObeyesdad',y='TUE',data=df)"
      ],
      "execution_count": null,
      "outputs": [
        {
          "output_type": "execute_result",
          "data": {
            "text/plain": [
              "<matplotlib.axes._subplots.AxesSubplot at 0x7f9c8b4ff710>"
            ]
          },
          "metadata": {},
          "execution_count": 47
        },
        {
          "output_type": "display_data",
          "data": {
            "image/png": "[encoded data removed]",
            "text/plain": [
              "<Figure size 864x432 with 1 Axes>"
            ]
          },
          "metadata": {
            "needs_background": "light"
          }
        }
      ]
    },
    {
      "cell_type": "code",
      "metadata": {
        "colab": {
          "base_uri": "https://localhost:8080/",
          "height": 407
        },
        "id": "sULtQtKU8ur4",
        "outputId": "86528561-3aa2-4966-96a0-50df84d4fd25"
      },
      "source": [
        "plt.figure(figsize=(12,6))\n",
        "sns.barplot(x='NObeyesdad',y='FCVC',data=df_manip)"
      ],
      "execution_count": null,
      "outputs": [
        {
          "output_type": "execute_result",
          "data": {
            "text/plain": [
              "<matplotlib.axes._subplots.AxesSubplot at 0x7f9c8b4997d0>"
            ]
          },
          "metadata": {},
          "execution_count": 48
        },
        {
          "output_type": "display_data",
          "data": {
            "image/png": "[encoded data removed]",
            "text/plain": [
              "<Figure size 864x432 with 1 Axes>"
            ]
          },
          "metadata": {
            "needs_background": "light"
          }
        }
      ]
    },
    {
      "cell_type": "code",
      "metadata": {
        "colab": {
          "base_uri": "https://localhost:8080/",
          "height": 407
        },
        "id": "coDZkau0-cp6",
        "outputId": "75dacab1-1b69-47e1-db58-d038117e7ab8"
      },
      "source": [
        "plt.figure(figsize=(12,6))\n",
        "sns.barplot(x='NObeyesdad',y='Weight',data=df_manip)"
      ],
      "execution_count": null,
      "outputs": [
        {
          "output_type": "execute_result",
          "data": {
            "text/plain": [
              "<matplotlib.axes._subplots.AxesSubplot at 0x7f9c8b426350>"
            ]
          },
          "metadata": {},
          "execution_count": 49
        },
        {
          "output_type": "display_data",
          "data": {
            "image/png": "[encoded data removed]",
            "text/plain": [
              "<Figure size 864x432 with 1 Axes>"
            ]
          },
          "metadata": {
            "needs_background": "light"
          }
        }
      ]
    },
    {
      "cell_type": "code",
      "metadata": {
        "id": "ZblsPrXX_GlJ"
      },
      "source": [
        ""
      ],
      "execution_count": null,
      "outputs": []
    },
    {
      "cell_type": "code",
      "metadata": {
        "colab": {
          "base_uri": "https://localhost:8080/",
          "height": 407
        },
        "id": "Ca0mdXVP-7yL",
        "outputId": "c1cd5f87-98ed-40dc-81ea-88d8becc42fa"
      },
      "source": [
        "plt.figure(figsize=(12,6))\n",
        "sns.barplot(x='NObeyesdad',y='Weight',data=df)"
      ],
      "execution_count": null,
      "outputs": [
        {
          "output_type": "execute_result",
          "data": {
            "text/plain": [
              "<matplotlib.axes._subplots.AxesSubplot at 0x7f9c8b30a090>"
            ]
          },
          "metadata": {},
          "execution_count": 50
        },
        {
          "output_type": "display_data",
          "data": {
            "image/png": "[encoded data removed]",
            "text/plain": [
              "<Figure size 864x432 with 1 Axes>"
            ]
          },
          "metadata": {
            "needs_background": "light"
          }
        }
      ]
    },
    {
      "cell_type": "code",
      "metadata": {
        "colab": {
          "base_uri": "https://localhost:8080/",
          "height": 407
        },
        "id": "zt_DIAlu_J1T",
        "outputId": "5b6bac52-f49a-4b93-e66a-03bec86495ed"
      },
      "source": [
        "plt.figure(figsize=(12,6))\n",
        "sns.barplot(x='NObeyesdad',y='FCVC',data=df_manip)"
      ],
      "execution_count": null,
      "outputs": [
        {
          "output_type": "execute_result",
          "data": {
            "text/plain": [
              "<matplotlib.axes._subplots.AxesSubplot at 0x7f9c8b290e50>"
            ]
          },
          "metadata": {},
          "execution_count": 51
        },
        {
          "output_type": "display_data",
          "data": {
            "image/png": "[encoded data removed]",
            "text/plain": [
              "<Figure size 864x432 with 1 Axes>"
            ]
          },
          "metadata": {
            "needs_background": "light"
          }
        }
      ]
    },
    {
      "cell_type": "code",
      "metadata": {
        "colab": {
          "base_uri": "https://localhost:8080/",
          "height": 407
        },
        "id": "hGUX1fom_O6z",
        "outputId": "0e535a94-c38d-4a57-f5c4-0d5058bec482"
      },
      "source": [
        "plt.figure(figsize=(12,6))\n",
        "sns.barplot(x='NObeyesdad',y='FCVC',data=df)"
      ],
      "execution_count": null,
      "outputs": [
        {
          "output_type": "execute_result",
          "data": {
            "text/plain": [
              "<matplotlib.axes._subplots.AxesSubplot at 0x7f9c8b2e2950>"
            ]
          },
          "metadata": {},
          "execution_count": 52
        },
        {
          "output_type": "display_data",
          "data": {
            "image/png": "[encoded data removed]",
            "text/plain": [
              "<Figure size 864x432 with 1 Axes>"
            ]
          },
          "metadata": {
            "needs_background": "light"
          }
        }
      ]
    },
    {
      "cell_type": "code",
      "metadata": {
        "colab": {
          "base_uri": "https://localhost:8080/",
          "height": 417
        },
        "id": "TEMCzd2G_UZA",
        "outputId": "890e7b0f-18b3-46eb-acb8-9ec88389fe99"
      },
      "source": [
        "pd.crosstab(df_manip['FAVC'],df_manip['NObeyesdad']).plot(kind='bar',stacked=False,figsize=(12,6))"
      ],
      "execution_count": null,
      "outputs": [
        {
          "output_type": "execute_result",
          "data": {
            "text/plain": [
              "<matplotlib.axes._subplots.AxesSubplot at 0x7f9c8b198e90>"
            ]
          },
          "metadata": {},
          "execution_count": 53
        },
        {
          "output_type": "display_data",
          "data": {
            "image/png": "[encoded data removed]",
            "text/plain": [
              "<Figure size 864x432 with 1 Axes>"
            ]
          },
          "metadata": {
            "needs_background": "light"
          }
        }
      ]
    },
    {
      "cell_type": "code",
      "metadata": {
        "colab": {
          "base_uri": "https://localhost:8080/",
          "height": 413
        },
        "id": "lmmK2Vb5_vpz",
        "outputId": "d2d2d816-d82b-4fd1-fd46-5bde456153e0"
      },
      "source": [
        "pd.crosstab(df['FAVC'],df['NObeyesdad']).plot(kind='bar',stacked=False,figsize=(12,6))"
      ],
      "execution_count": null,
      "outputs": [
        {
          "output_type": "execute_result",
          "data": {
            "text/plain": [
              "<matplotlib.axes._subplots.AxesSubplot at 0x7f9c8b130fd0>"
            ]
          },
          "metadata": {},
          "execution_count": 54
        },
        {
          "output_type": "display_data",
          "data": {
            "image/png": "[encoded data removed]",
            "text/plain": [
              "<Figure size 864x432 with 1 Axes>"
            ]
          },
          "metadata": {
            "needs_background": "light"
          }
        }
      ]
    },
    {
      "cell_type": "code",
      "metadata": {
        "colab": {
          "base_uri": "https://localhost:8080/",
          "height": 407
        },
        "id": "ctvJROfS_0x2",
        "outputId": "d5b417ed-ed03-4ecc-a6e0-8f3da14f0381"
      },
      "source": [
        "plt.figure(figsize=(12,6))\n",
        "sns.barplot(y='NCP', x='NObeyesdad',data=df)"
      ],
      "execution_count": null,
      "outputs": [
        {
          "output_type": "execute_result",
          "data": {
            "text/plain": [
              "<matplotlib.axes._subplots.AxesSubplot at 0x7f9c8affce10>"
            ]
          },
          "metadata": {},
          "execution_count": 55
        },
        {
          "output_type": "display_data",
          "data": {
            "image/png": "[encoded data removed]",
            "text/plain": [
              "<Figure size 864x432 with 1 Axes>"
            ]
          },
          "metadata": {
            "needs_background": "light"
          }
        }
      ]
    },
    {
      "cell_type": "code",
      "metadata": {
        "colab": {
          "base_uri": "https://localhost:8080/",
          "height": 407
        },
        "id": "B0NRY_c0ARn_",
        "outputId": "214d3e47-0a7e-4c17-a761-f21f1d1286a6"
      },
      "source": [
        "plt.figure(figsize=(12,6))\n",
        "sns.barplot(x='NObeyesdad',y='FAF',data=df_manip)"
      ],
      "execution_count": null,
      "outputs": [
        {
          "output_type": "execute_result",
          "data": {
            "text/plain": [
              "<matplotlib.axes._subplots.AxesSubplot at 0x7f9c8b527290>"
            ]
          },
          "metadata": {},
          "execution_count": 56
        },
        {
          "output_type": "display_data",
          "data": {
            "image/png": "[encoded data removed]",
            "text/plain": [
              "<Figure size 864x432 with 1 Axes>"
            ]
          },
          "metadata": {
            "needs_background": "light"
          }
        }
      ]
    },
    {
      "cell_type": "code",
      "metadata": {
        "colab": {
          "base_uri": "https://localhost:8080/",
          "height": 407
        },
        "id": "yj9pJWlxAhSl",
        "outputId": "b4df9fd0-b2d8-40bf-ec81-ee309ba7581a"
      },
      "source": [
        "plt.figure(figsize=(12,6))\n",
        "sns.barplot(x='NObeyesdad',y='FAF',data=df)"
      ],
      "execution_count": null,
      "outputs": [
        {
          "output_type": "execute_result",
          "data": {
            "text/plain": [
              "<matplotlib.axes._subplots.AxesSubplot at 0x7f9c8b3badd0>"
            ]
          },
          "metadata": {},
          "execution_count": 57
        },
        {
          "output_type": "display_data",
          "data": {
            "image/png": "[encoded data removed]",
            "text/plain": [
              "<Figure size 864x432 with 1 Axes>"
            ]
          },
          "metadata": {
            "needs_background": "light"
          }
        }
      ]
    },
    {
      "cell_type": "code",
      "metadata": {
        "colab": {
          "base_uri": "https://localhost:8080/",
          "height": 451
        },
        "id": "oPSjkWjVAl27",
        "outputId": "0d9fed90-f2d9-43f3-92e0-287e32bba4c8"
      },
      "source": [
        "pd.crosstab(df['CAEC'],df['NObeyesdad']).plot(kind='bar',stacked=False,figsize=(12,6))"
      ],
      "execution_count": null,
      "outputs": [
        {
          "output_type": "execute_result",
          "data": {
            "text/plain": [
              "<matplotlib.axes._subplots.AxesSubplot at 0x7f9c8aeda7d0>"
            ]
          },
          "metadata": {},
          "execution_count": 58
        },
        {
          "output_type": "display_data",
          "data": {
            "image/png": "[encoded data removed]",
            "text/plain": [
              "<Figure size 864x432 with 1 Axes>"
            ]
          },
          "metadata": {
            "needs_background": "light"
          }
        }
      ]
    },
    {
      "cell_type": "code",
      "metadata": {
        "colab": {
          "base_uri": "https://localhost:8080/",
          "height": 455
        },
        "id": "aW9_2MGQAqqO",
        "outputId": "ed5e6d02-3bb6-461e-d262-81996091874d"
      },
      "source": [
        "pd.crosstab(df_manip['CAEC'],df_manip['NObeyesdad']).plot(kind='bar',stacked=False,figsize=(12,6))"
      ],
      "execution_count": null,
      "outputs": [
        {
          "output_type": "execute_result",
          "data": {
            "text/plain": [
              "<matplotlib.axes._subplots.AxesSubplot at 0x7f9c8ae30e50>"
            ]
          },
          "metadata": {},
          "execution_count": 59
        },
        {
          "output_type": "display_data",
          "data": {
            "image/png": "[encoded data removed]",
            "text/plain": [
              "<Figure size 864x432 with 1 Axes>"
            ]
          },
          "metadata": {
            "needs_background": "light"
          }
        }
      ]
    },
    {
      "cell_type": "code",
      "metadata": {
        "colab": {
          "base_uri": "https://localhost:8080/",
          "height": 297
        },
        "id": "tYspgqxlAuh2",
        "outputId": "73373769-7d31-4692-d3b7-2ea1ed201101"
      },
      "source": [
        "sns.countplot(x='CAEC',data=df)"
      ],
      "execution_count": null,
      "outputs": [
        {
          "output_type": "execute_result",
          "data": {
            "text/plain": [
              "<matplotlib.axes._subplots.AxesSubplot at 0x7f9c8ad65f90>"
            ]
          },
          "metadata": {},
          "execution_count": 60
        },
        {
          "output_type": "display_data",
          "data": {
            "image/png": "[encoded data removed]",
            "text/plain": [
              "<Figure size 432x288 with 1 Axes>"
            ]
          },
          "metadata": {
            "needs_background": "light"
          }
        }
      ]
    },
    {
      "cell_type": "code",
      "metadata": {
        "colab": {
          "base_uri": "https://localhost:8080/",
          "height": 413
        },
        "id": "teS6wEV9BGUe",
        "outputId": "1a6b3308-e049-4dcc-e3b2-2926e19bdd3f"
      },
      "source": [
        "pd.crosstab(df['FAVC'],df['NObeyesdad']).plot(kind='bar',stacked=False,figsize=(12,6))"
      ],
      "execution_count": null,
      "outputs": [
        {
          "output_type": "execute_result",
          "data": {
            "text/plain": [
              "<matplotlib.axes._subplots.AxesSubplot at 0x7f9c8accde10>"
            ]
          },
          "metadata": {},
          "execution_count": 61
        },
        {
          "output_type": "display_data",
          "data": {
            "image/png": "[encoded data removed]",
            "text/plain": [
              "<Figure size 864x432 with 1 Axes>"
            ]
          },
          "metadata": {
            "needs_background": "light"
          }
        }
      ]
    },
    {
      "cell_type": "code",
      "metadata": {
        "colab": {
          "base_uri": "https://localhost:8080/",
          "height": 417
        },
        "id": "GnLytRisBVnW",
        "outputId": "fb0a5a8c-70ec-481a-dcc8-724ff49c0d1e"
      },
      "source": [
        "pd.crosstab(df_manip['FAVC'],df_manip['NObeyesdad']).plot(kind='bar',stacked=False,figsize=(12,6))"
      ],
      "execution_count": null,
      "outputs": [
        {
          "output_type": "execute_result",
          "data": {
            "text/plain": [
              "<matplotlib.axes._subplots.AxesSubplot at 0x7f9c8ac00c90>"
            ]
          },
          "metadata": {},
          "execution_count": 62
        },
        {
          "output_type": "display_data",
          "data": {
            "image/png": "[encoded data removed]",
            "text/plain": [
              "<Figure size 864x432 with 1 Axes>"
            ]
          },
          "metadata": {
            "needs_background": "light"
          }
        }
      ]
    },
    {
      "cell_type": "code",
      "metadata": {
        "colab": {
          "base_uri": "https://localhost:8080/",
          "height": 297
        },
        "id": "BnSBgPSMBI01",
        "outputId": "f64f6abc-eb51-4f70-f891-8983e7ce08b1"
      },
      "source": [
        "sns.countplot(x='FAVC',data=df)"
      ],
      "execution_count": null,
      "outputs": [
        {
          "output_type": "execute_result",
          "data": {
            "text/plain": [
              "<matplotlib.axes._subplots.AxesSubplot at 0x7f9c8aba0710>"
            ]
          },
          "metadata": {},
          "execution_count": 63
        },
        {
          "output_type": "display_data",
          "data": {
            "image/png": "[encoded data removed]",
            "text/plain": [
              "<Figure size 432x288 with 1 Axes>"
            ]
          },
          "metadata": {
            "needs_background": "light"
          }
        }
      ]
    },
    {
      "cell_type": "markdown",
      "metadata": {
        "id": "zm1676OHwMyw"
      },
      "source": [
        "<h4>We perform Label Encoding of Following Attributes</h4>\n",
        "<ul>\n",
        "  <li>family_history_with_overweight</li>\n",
        "  <li>FAVC</li>\n",
        "  <li>CAEC</li>\n",
        "  <li>Smoke</li>\n",
        "  <li>SCC</li>\n",
        "  <li>CALC</li>\n",
        "</ul>\n",
        "<h4>We perform OneHotEncoding on the following data</h4>\n",
        "<ul>\n",
        "  <li>Gender</li>\n",
        "  <li>Mode of Transport</li>\n",
        "</ul>\n"
      ]
    },
    {
      "cell_type": "code",
      "metadata": {
        "id": "G0dL8njDwMGK"
      },
      "source": [
        ""
      ],
      "execution_count": null,
      "outputs": []
    },
    {
      "cell_type": "code",
      "metadata": {
        "colab": {
          "base_uri": "https://localhost:8080/",
          "height": 226
        },
        "id": "GbStzbx-FSaf",
        "outputId": "caba3da4-6c3e-4bf3-abaf-c98102aa4590"
      },
      "source": [
        "## OnehotEncoding Gender Column \n",
        "df_gender=pd.get_dummies(df['Gender'])\n",
        "df = pd.concat([df,df_gender.iloc[:,:-1]],axis=1)\n",
        "df.drop(columns=['Gender'],inplace=True) \n",
        "df.head()"
      ],
      "execution_count": null,
      "outputs": [
        {
          "output_type": "execute_result",
          "data": {
            "text/html": [
              "<div>\n",
              "<style scoped>\n",
              "    .dataframe tbody tr th:only-of-type {\n",
              "        vertical-align: middle;\n",
              "    }\n",
              "\n",
              "    .dataframe tbody tr th {\n",
              "        vertical-align: top;\n",
              "    }\n",
              "\n",
              "    .dataframe thead th {\n",
              "        text-align: right;\n",
              "    }\n",
              "</style>\n",
              "<table border=\"1\" class=\"dataframe\">\n",
              "  <thead>\n",
              "    <tr style=\"text-align: right;\">\n",
              "      <th></th>\n",
              "      <th>Age</th>\n",
              "      <th>Height</th>\n",
              "      <th>Weight</th>\n",
              "      <th>family_history_with_overweight</th>\n",
              "      <th>FAVC</th>\n",
              "      <th>FCVC</th>\n",
              "      <th>NCP</th>\n",
              "      <th>CAEC</th>\n",
              "      <th>SMOKE</th>\n",
              "      <th>CH2O</th>\n",
              "      <th>SCC</th>\n",
              "      <th>FAF</th>\n",
              "      <th>TUE</th>\n",
              "      <th>CALC</th>\n",
              "      <th>MTRANS</th>\n",
              "      <th>NObeyesdad</th>\n",
              "      <th>Female</th>\n",
              "    </tr>\n",
              "  </thead>\n",
              "  <tbody>\n",
              "    <tr>\n",
              "      <th>0</th>\n",
              "      <td>21.0</td>\n",
              "      <td>1.62</td>\n",
              "      <td>64.0</td>\n",
              "      <td>yes</td>\n",
              "      <td>no</td>\n",
              "      <td>2.0</td>\n",
              "      <td>3.0</td>\n",
              "      <td>Sometimes</td>\n",
              "      <td>no</td>\n",
              "      <td>2.0</td>\n",
              "      <td>no</td>\n",
              "      <td>0.0</td>\n",
              "      <td>1.0</td>\n",
              "      <td>no</td>\n",
              "      <td>Public_Transportation</td>\n",
              "      <td>Normal_Weight</td>\n",
              "      <td>1</td>\n",
              "    </tr>\n",
              "    <tr>\n",
              "      <th>1</th>\n",
              "      <td>21.0</td>\n",
              "      <td>1.52</td>\n",
              "      <td>56.0</td>\n",
              "      <td>yes</td>\n",
              "      <td>no</td>\n",
              "      <td>3.0</td>\n",
              "      <td>3.0</td>\n",
              "      <td>Sometimes</td>\n",
              "      <td>yes</td>\n",
              "      <td>3.0</td>\n",
              "      <td>yes</td>\n",
              "      <td>3.0</td>\n",
              "      <td>0.0</td>\n",
              "      <td>Sometimes</td>\n",
              "      <td>Public_Transportation</td>\n",
              "      <td>Normal_Weight</td>\n",
              "      <td>1</td>\n",
              "    </tr>\n",
              "    <tr>\n",
              "      <th>2</th>\n",
              "      <td>23.0</td>\n",
              "      <td>1.80</td>\n",
              "      <td>77.0</td>\n",
              "      <td>yes</td>\n",
              "      <td>no</td>\n",
              "      <td>2.0</td>\n",
              "      <td>3.0</td>\n",
              "      <td>Sometimes</td>\n",
              "      <td>no</td>\n",
              "      <td>2.0</td>\n",
              "      <td>no</td>\n",
              "      <td>2.0</td>\n",
              "      <td>1.0</td>\n",
              "      <td>Frequently</td>\n",
              "      <td>Public_Transportation</td>\n",
              "      <td>Normal_Weight</td>\n",
              "      <td>0</td>\n",
              "    </tr>\n",
              "    <tr>\n",
              "      <th>3</th>\n",
              "      <td>27.0</td>\n",
              "      <td>1.80</td>\n",
              "      <td>87.0</td>\n",
              "      <td>no</td>\n",
              "      <td>no</td>\n",
              "      <td>3.0</td>\n",
              "      <td>3.0</td>\n",
              "      <td>Sometimes</td>\n",
              "      <td>no</td>\n",
              "      <td>2.0</td>\n",
              "      <td>no</td>\n",
              "      <td>2.0</td>\n",
              "      <td>0.0</td>\n",
              "      <td>Frequently</td>\n",
              "      <td>Walking</td>\n",
              "      <td>Overweight_Level_I</td>\n",
              "      <td>0</td>\n",
              "    </tr>\n",
              "    <tr>\n",
              "      <th>4</th>\n",
              "      <td>22.0</td>\n",
              "      <td>1.78</td>\n",
              "      <td>89.8</td>\n",
              "      <td>no</td>\n",
              "      <td>no</td>\n",
              "      <td>2.0</td>\n",
              "      <td>1.0</td>\n",
              "      <td>Sometimes</td>\n",
              "      <td>no</td>\n",
              "      <td>2.0</td>\n",
              "      <td>no</td>\n",
              "      <td>0.0</td>\n",
              "      <td>0.0</td>\n",
              "      <td>Sometimes</td>\n",
              "      <td>Public_Transportation</td>\n",
              "      <td>Overweight_Level_II</td>\n",
              "      <td>0</td>\n",
              "    </tr>\n",
              "  </tbody>\n",
              "</table>\n",
              "</div>"
            ],
            "text/plain": [
              "    Age  Height  Weight  ...                 MTRANS           NObeyesdad  Female\n",
              "0  21.0    1.62    64.0  ...  Public_Transportation        Normal_Weight       1\n",
              "1  21.0    1.52    56.0  ...  Public_Transportation        Normal_Weight       1\n",
              "2  23.0    1.80    77.0  ...  Public_Transportation        Normal_Weight       0\n",
              "3  27.0    1.80    87.0  ...                Walking   Overweight_Level_I       0\n",
              "4  22.0    1.78    89.8  ...  Public_Transportation  Overweight_Level_II       0\n",
              "\n",
              "[5 rows x 17 columns]"
            ]
          },
          "metadata": {},
          "execution_count": 167
        }
      ]
    },
    {
      "cell_type": "code",
      "metadata": {
        "colab": {
          "base_uri": "https://localhost:8080/",
          "height": 226
        },
        "id": "ebXBxr009Gjl",
        "outputId": "f3df2bc1-8ffe-40f6-9521-5aaba3187a7c"
      },
      "source": [
        "## OneHotEncoding MTRANS Column \n",
        "df_mtrans=pd.get_dummies(df['MTRANS'])\n",
        "df = pd.concat([df,df_mtrans.iloc[:,:-1]],axis=1)\n",
        "df.drop(columns=['MTRANS'],inplace=True) \n",
        "df.head()"
      ],
      "execution_count": null,
      "outputs": [
        {
          "output_type": "execute_result",
          "data": {
            "text/html": [
              "<div>\n",
              "<style scoped>\n",
              "    .dataframe tbody tr th:only-of-type {\n",
              "        vertical-align: middle;\n",
              "    }\n",
              "\n",
              "    .dataframe tbody tr th {\n",
              "        vertical-align: top;\n",
              "    }\n",
              "\n",
              "    .dataframe thead th {\n",
              "        text-align: right;\n",
              "    }\n",
              "</style>\n",
              "<table border=\"1\" class=\"dataframe\">\n",
              "  <thead>\n",
              "    <tr style=\"text-align: right;\">\n",
              "      <th></th>\n",
              "      <th>Age</th>\n",
              "      <th>Height</th>\n",
              "      <th>Weight</th>\n",
              "      <th>family_history_with_overweight</th>\n",
              "      <th>FAVC</th>\n",
              "      <th>FCVC</th>\n",
              "      <th>NCP</th>\n",
              "      <th>CAEC</th>\n",
              "      <th>SMOKE</th>\n",
              "      <th>CH2O</th>\n",
              "      <th>SCC</th>\n",
              "      <th>FAF</th>\n",
              "      <th>TUE</th>\n",
              "      <th>CALC</th>\n",
              "      <th>NObeyesdad</th>\n",
              "      <th>Female</th>\n",
              "      <th>Automobile</th>\n",
              "      <th>Bike</th>\n",
              "      <th>Motorbike</th>\n",
              "      <th>Public_Transportation</th>\n",
              "    </tr>\n",
              "  </thead>\n",
              "  <tbody>\n",
              "    <tr>\n",
              "      <th>0</th>\n",
              "      <td>21.0</td>\n",
              "      <td>1.62</td>\n",
              "      <td>64.0</td>\n",
              "      <td>yes</td>\n",
              "      <td>no</td>\n",
              "      <td>2.0</td>\n",
              "      <td>3.0</td>\n",
              "      <td>Sometimes</td>\n",
              "      <td>no</td>\n",
              "      <td>2.0</td>\n",
              "      <td>no</td>\n",
              "      <td>0.0</td>\n",
              "      <td>1.0</td>\n",
              "      <td>no</td>\n",
              "      <td>Normal_Weight</td>\n",
              "      <td>1</td>\n",
              "      <td>0</td>\n",
              "      <td>0</td>\n",
              "      <td>0</td>\n",
              "      <td>1</td>\n",
              "    </tr>\n",
              "    <tr>\n",
              "      <th>1</th>\n",
              "      <td>21.0</td>\n",
              "      <td>1.52</td>\n",
              "      <td>56.0</td>\n",
              "      <td>yes</td>\n",
              "      <td>no</td>\n",
              "      <td>3.0</td>\n",
              "      <td>3.0</td>\n",
              "      <td>Sometimes</td>\n",
              "      <td>yes</td>\n",
              "      <td>3.0</td>\n",
              "      <td>yes</td>\n",
              "      <td>3.0</td>\n",
              "      <td>0.0</td>\n",
              "      <td>Sometimes</td>\n",
              "      <td>Normal_Weight</td>\n",
              "      <td>1</td>\n",
              "      <td>0</td>\n",
              "      <td>0</td>\n",
              "      <td>0</td>\n",
              "      <td>1</td>\n",
              "    </tr>\n",
              "    <tr>\n",
              "      <th>2</th>\n",
              "      <td>23.0</td>\n",
              "      <td>1.80</td>\n",
              "      <td>77.0</td>\n",
              "      <td>yes</td>\n",
              "      <td>no</td>\n",
              "      <td>2.0</td>\n",
              "      <td>3.0</td>\n",
              "      <td>Sometimes</td>\n",
              "      <td>no</td>\n",
              "      <td>2.0</td>\n",
              "      <td>no</td>\n",
              "      <td>2.0</td>\n",
              "      <td>1.0</td>\n",
              "      <td>Frequently</td>\n",
              "      <td>Normal_Weight</td>\n",
              "      <td>0</td>\n",
              "      <td>0</td>\n",
              "      <td>0</td>\n",
              "      <td>0</td>\n",
              "      <td>1</td>\n",
              "    </tr>\n",
              "    <tr>\n",
              "      <th>3</th>\n",
              "      <td>27.0</td>\n",
              "      <td>1.80</td>\n",
              "      <td>87.0</td>\n",
              "      <td>no</td>\n",
              "      <td>no</td>\n",
              "      <td>3.0</td>\n",
              "      <td>3.0</td>\n",
              "      <td>Sometimes</td>\n",
              "      <td>no</td>\n",
              "      <td>2.0</td>\n",
              "      <td>no</td>\n",
              "      <td>2.0</td>\n",
              "      <td>0.0</td>\n",
              "      <td>Frequently</td>\n",
              "      <td>Overweight_Level_I</td>\n",
              "      <td>0</td>\n",
              "      <td>0</td>\n",
              "      <td>0</td>\n",
              "      <td>0</td>\n",
              "      <td>0</td>\n",
              "    </tr>\n",
              "    <tr>\n",
              "      <th>4</th>\n",
              "      <td>22.0</td>\n",
              "      <td>1.78</td>\n",
              "      <td>89.8</td>\n",
              "      <td>no</td>\n",
              "      <td>no</td>\n",
              "      <td>2.0</td>\n",
              "      <td>1.0</td>\n",
              "      <td>Sometimes</td>\n",
              "      <td>no</td>\n",
              "      <td>2.0</td>\n",
              "      <td>no</td>\n",
              "      <td>0.0</td>\n",
              "      <td>0.0</td>\n",
              "      <td>Sometimes</td>\n",
              "      <td>Overweight_Level_II</td>\n",
              "      <td>0</td>\n",
              "      <td>0</td>\n",
              "      <td>0</td>\n",
              "      <td>0</td>\n",
              "      <td>1</td>\n",
              "    </tr>\n",
              "  </tbody>\n",
              "</table>\n",
              "</div>"
            ],
            "text/plain": [
              "    Age  Height  Weight  ... Bike Motorbike  Public_Transportation\n",
              "0  21.0    1.62    64.0  ...    0         0                      1\n",
              "1  21.0    1.52    56.0  ...    0         0                      1\n",
              "2  23.0    1.80    77.0  ...    0         0                      1\n",
              "3  27.0    1.80    87.0  ...    0         0                      0\n",
              "4  22.0    1.78    89.8  ...    0         0                      1\n",
              "\n",
              "[5 rows x 20 columns]"
            ]
          },
          "metadata": {},
          "execution_count": 168
        }
      ]
    },
    {
      "cell_type": "code",
      "metadata": {
        "id": "btrghjtWGDY3"
      },
      "source": [
        "## Label Encoding Family_history_with_overweight\n",
        "df = df.replace({'family_history_with_overweight': {'yes': 1,  \n",
        "                                'no': 0}}) \n",
        "  "
      ],
      "execution_count": null,
      "outputs": []
    },
    {
      "cell_type": "code",
      "metadata": {
        "colab": {
          "base_uri": "https://localhost:8080/",
          "height": 226
        },
        "id": "ESrixfGiGQaY",
        "outputId": "fbd2560c-d548-4227-9656-3e50eb1fb606"
      },
      "source": [
        "df.head()"
      ],
      "execution_count": null,
      "outputs": [
        {
          "output_type": "execute_result",
          "data": {
            "text/html": [
              "<div>\n",
              "<style scoped>\n",
              "    .dataframe tbody tr th:only-of-type {\n",
              "        vertical-align: middle;\n",
              "    }\n",
              "\n",
              "    .dataframe tbody tr th {\n",
              "        vertical-align: top;\n",
              "    }\n",
              "\n",
              "    .dataframe thead th {\n",
              "        text-align: right;\n",
              "    }\n",
              "</style>\n",
              "<table border=\"1\" class=\"dataframe\">\n",
              "  <thead>\n",
              "    <tr style=\"text-align: right;\">\n",
              "      <th></th>\n",
              "      <th>Age</th>\n",
              "      <th>Height</th>\n",
              "      <th>Weight</th>\n",
              "      <th>family_history_with_overweight</th>\n",
              "      <th>FAVC</th>\n",
              "      <th>FCVC</th>\n",
              "      <th>NCP</th>\n",
              "      <th>CAEC</th>\n",
              "      <th>SMOKE</th>\n",
              "      <th>CH2O</th>\n",
              "      <th>SCC</th>\n",
              "      <th>FAF</th>\n",
              "      <th>TUE</th>\n",
              "      <th>CALC</th>\n",
              "      <th>NObeyesdad</th>\n",
              "      <th>Female</th>\n",
              "      <th>Automobile</th>\n",
              "      <th>Bike</th>\n",
              "      <th>Motorbike</th>\n",
              "      <th>Public_Transportation</th>\n",
              "    </tr>\n",
              "  </thead>\n",
              "  <tbody>\n",
              "    <tr>\n",
              "      <th>0</th>\n",
              "      <td>21.0</td>\n",
              "      <td>1.62</td>\n",
              "      <td>64.0</td>\n",
              "      <td>1</td>\n",
              "      <td>no</td>\n",
              "      <td>2.0</td>\n",
              "      <td>3.0</td>\n",
              "      <td>Sometimes</td>\n",
              "      <td>no</td>\n",
              "      <td>2.0</td>\n",
              "      <td>no</td>\n",
              "      <td>0.0</td>\n",
              "      <td>1.0</td>\n",
              "      <td>no</td>\n",
              "      <td>Normal_Weight</td>\n",
              "      <td>1</td>\n",
              "      <td>0</td>\n",
              "      <td>0</td>\n",
              "      <td>0</td>\n",
              "      <td>1</td>\n",
              "    </tr>\n",
              "    <tr>\n",
              "      <th>1</th>\n",
              "      <td>21.0</td>\n",
              "      <td>1.52</td>\n",
              "      <td>56.0</td>\n",
              "      <td>1</td>\n",
              "      <td>no</td>\n",
              "      <td>3.0</td>\n",
              "      <td>3.0</td>\n",
              "      <td>Sometimes</td>\n",
              "      <td>yes</td>\n",
              "      <td>3.0</td>\n",
              "      <td>yes</td>\n",
              "      <td>3.0</td>\n",
              "      <td>0.0</td>\n",
              "      <td>Sometimes</td>\n",
              "      <td>Normal_Weight</td>\n",
              "      <td>1</td>\n",
              "      <td>0</td>\n",
              "      <td>0</td>\n",
              "      <td>0</td>\n",
              "      <td>1</td>\n",
              "    </tr>\n",
              "    <tr>\n",
              "      <th>2</th>\n",
              "      <td>23.0</td>\n",
              "      <td>1.80</td>\n",
              "      <td>77.0</td>\n",
              "      <td>1</td>\n",
              "      <td>no</td>\n",
              "      <td>2.0</td>\n",
              "      <td>3.0</td>\n",
              "      <td>Sometimes</td>\n",
              "      <td>no</td>\n",
              "      <td>2.0</td>\n",
              "      <td>no</td>\n",
              "      <td>2.0</td>\n",
              "      <td>1.0</td>\n",
              "      <td>Frequently</td>\n",
              "      <td>Normal_Weight</td>\n",
              "      <td>0</td>\n",
              "      <td>0</td>\n",
              "      <td>0</td>\n",
              "      <td>0</td>\n",
              "      <td>1</td>\n",
              "    </tr>\n",
              "    <tr>\n",
              "      <th>3</th>\n",
              "      <td>27.0</td>\n",
              "      <td>1.80</td>\n",
              "      <td>87.0</td>\n",
              "      <td>0</td>\n",
              "      <td>no</td>\n",
              "      <td>3.0</td>\n",
              "      <td>3.0</td>\n",
              "      <td>Sometimes</td>\n",
              "      <td>no</td>\n",
              "      <td>2.0</td>\n",
              "      <td>no</td>\n",
              "      <td>2.0</td>\n",
              "      <td>0.0</td>\n",
              "      <td>Frequently</td>\n",
              "      <td>Overweight_Level_I</td>\n",
              "      <td>0</td>\n",
              "      <td>0</td>\n",
              "      <td>0</td>\n",
              "      <td>0</td>\n",
              "      <td>0</td>\n",
              "    </tr>\n",
              "    <tr>\n",
              "      <th>4</th>\n",
              "      <td>22.0</td>\n",
              "      <td>1.78</td>\n",
              "      <td>89.8</td>\n",
              "      <td>0</td>\n",
              "      <td>no</td>\n",
              "      <td>2.0</td>\n",
              "      <td>1.0</td>\n",
              "      <td>Sometimes</td>\n",
              "      <td>no</td>\n",
              "      <td>2.0</td>\n",
              "      <td>no</td>\n",
              "      <td>0.0</td>\n",
              "      <td>0.0</td>\n",
              "      <td>Sometimes</td>\n",
              "      <td>Overweight_Level_II</td>\n",
              "      <td>0</td>\n",
              "      <td>0</td>\n",
              "      <td>0</td>\n",
              "      <td>0</td>\n",
              "      <td>1</td>\n",
              "    </tr>\n",
              "  </tbody>\n",
              "</table>\n",
              "</div>"
            ],
            "text/plain": [
              "    Age  Height  Weight  ...  Bike Motorbike  Public_Transportation\n",
              "0  21.0    1.62    64.0  ...     0         0                      1\n",
              "1  21.0    1.52    56.0  ...     0         0                      1\n",
              "2  23.0    1.80    77.0  ...     0         0                      1\n",
              "3  27.0    1.80    87.0  ...     0         0                      0\n",
              "4  22.0    1.78    89.8  ...     0         0                      1\n",
              "\n",
              "[5 rows x 20 columns]"
            ]
          },
          "metadata": {},
          "execution_count": 170
        }
      ]
    },
    {
      "cell_type": "code",
      "metadata": {
        "id": "nx10PZGsGplp"
      },
      "source": [
        "##Label Encoding FAVC\n",
        "df = df.replace({'FAVC': {'yes': 1,  \n",
        "                                'no': 0}}) "
      ],
      "execution_count": null,
      "outputs": []
    },
    {
      "cell_type": "code",
      "metadata": {
        "id": "-YE8Zf2kGxh5"
      },
      "source": [
        "## Label Encoding SMOKE\n",
        "df = df.replace({'SMOKE': {'yes': 1,  \n",
        "                                'no': 0}}) \n",
        "  "
      ],
      "execution_count": null,
      "outputs": []
    },
    {
      "cell_type": "code",
      "metadata": {
        "id": "R-xshuANG7ni"
      },
      "source": [
        "## Label Encoding SCC\n",
        "df = df.replace({'SCC': {'yes': 1,  \n",
        "                                'no': 0}}) \n",
        "  "
      ],
      "execution_count": null,
      "outputs": []
    },
    {
      "cell_type": "code",
      "metadata": {
        "colab": {
          "base_uri": "https://localhost:8080/",
          "height": 226
        },
        "id": "DGndFubbHBh9",
        "outputId": "3e38a6b5-999a-4142-818b-330be2bea3d6"
      },
      "source": [
        "df.head()"
      ],
      "execution_count": null,
      "outputs": [
        {
          "output_type": "execute_result",
          "data": {
            "text/html": [
              "<div>\n",
              "<style scoped>\n",
              "    .dataframe tbody tr th:only-of-type {\n",
              "        vertical-align: middle;\n",
              "    }\n",
              "\n",
              "    .dataframe tbody tr th {\n",
              "        vertical-align: top;\n",
              "    }\n",
              "\n",
              "    .dataframe thead th {\n",
              "        text-align: right;\n",
              "    }\n",
              "</style>\n",
              "<table border=\"1\" class=\"dataframe\">\n",
              "  <thead>\n",
              "    <tr style=\"text-align: right;\">\n",
              "      <th></th>\n",
              "      <th>Age</th>\n",
              "      <th>Height</th>\n",
              "      <th>Weight</th>\n",
              "      <th>family_history_with_overweight</th>\n",
              "      <th>FAVC</th>\n",
              "      <th>FCVC</th>\n",
              "      <th>NCP</th>\n",
              "      <th>CAEC</th>\n",
              "      <th>SMOKE</th>\n",
              "      <th>CH2O</th>\n",
              "      <th>SCC</th>\n",
              "      <th>FAF</th>\n",
              "      <th>TUE</th>\n",
              "      <th>CALC</th>\n",
              "      <th>NObeyesdad</th>\n",
              "      <th>Female</th>\n",
              "      <th>Automobile</th>\n",
              "      <th>Bike</th>\n",
              "      <th>Motorbike</th>\n",
              "      <th>Public_Transportation</th>\n",
              "    </tr>\n",
              "  </thead>\n",
              "  <tbody>\n",
              "    <tr>\n",
              "      <th>0</th>\n",
              "      <td>21.0</td>\n",
              "      <td>1.62</td>\n",
              "      <td>64.0</td>\n",
              "      <td>1</td>\n",
              "      <td>0</td>\n",
              "      <td>2.0</td>\n",
              "      <td>3.0</td>\n",
              "      <td>Sometimes</td>\n",
              "      <td>0</td>\n",
              "      <td>2.0</td>\n",
              "      <td>0</td>\n",
              "      <td>0.0</td>\n",
              "      <td>1.0</td>\n",
              "      <td>no</td>\n",
              "      <td>Normal_Weight</td>\n",
              "      <td>1</td>\n",
              "      <td>0</td>\n",
              "      <td>0</td>\n",
              "      <td>0</td>\n",
              "      <td>1</td>\n",
              "    </tr>\n",
              "    <tr>\n",
              "      <th>1</th>\n",
              "      <td>21.0</td>\n",
              "      <td>1.52</td>\n",
              "      <td>56.0</td>\n",
              "      <td>1</td>\n",
              "      <td>0</td>\n",
              "      <td>3.0</td>\n",
              "      <td>3.0</td>\n",
              "      <td>Sometimes</td>\n",
              "      <td>1</td>\n",
              "      <td>3.0</td>\n",
              "      <td>1</td>\n",
              "      <td>3.0</td>\n",
              "      <td>0.0</td>\n",
              "      <td>Sometimes</td>\n",
              "      <td>Normal_Weight</td>\n",
              "      <td>1</td>\n",
              "      <td>0</td>\n",
              "      <td>0</td>\n",
              "      <td>0</td>\n",
              "      <td>1</td>\n",
              "    </tr>\n",
              "    <tr>\n",
              "      <th>2</th>\n",
              "      <td>23.0</td>\n",
              "      <td>1.80</td>\n",
              "      <td>77.0</td>\n",
              "      <td>1</td>\n",
              "      <td>0</td>\n",
              "      <td>2.0</td>\n",
              "      <td>3.0</td>\n",
              "      <td>Sometimes</td>\n",
              "      <td>0</td>\n",
              "      <td>2.0</td>\n",
              "      <td>0</td>\n",
              "      <td>2.0</td>\n",
              "      <td>1.0</td>\n",
              "      <td>Frequently</td>\n",
              "      <td>Normal_Weight</td>\n",
              "      <td>0</td>\n",
              "      <td>0</td>\n",
              "      <td>0</td>\n",
              "      <td>0</td>\n",
              "      <td>1</td>\n",
              "    </tr>\n",
              "    <tr>\n",
              "      <th>3</th>\n",
              "      <td>27.0</td>\n",
              "      <td>1.80</td>\n",
              "      <td>87.0</td>\n",
              "      <td>0</td>\n",
              "      <td>0</td>\n",
              "      <td>3.0</td>\n",
              "      <td>3.0</td>\n",
              "      <td>Sometimes</td>\n",
              "      <td>0</td>\n",
              "      <td>2.0</td>\n",
              "      <td>0</td>\n",
              "      <td>2.0</td>\n",
              "      <td>0.0</td>\n",
              "      <td>Frequently</td>\n",
              "      <td>Overweight_Level_I</td>\n",
              "      <td>0</td>\n",
              "      <td>0</td>\n",
              "      <td>0</td>\n",
              "      <td>0</td>\n",
              "      <td>0</td>\n",
              "    </tr>\n",
              "    <tr>\n",
              "      <th>4</th>\n",
              "      <td>22.0</td>\n",
              "      <td>1.78</td>\n",
              "      <td>89.8</td>\n",
              "      <td>0</td>\n",
              "      <td>0</td>\n",
              "      <td>2.0</td>\n",
              "      <td>1.0</td>\n",
              "      <td>Sometimes</td>\n",
              "      <td>0</td>\n",
              "      <td>2.0</td>\n",
              "      <td>0</td>\n",
              "      <td>0.0</td>\n",
              "      <td>0.0</td>\n",
              "      <td>Sometimes</td>\n",
              "      <td>Overweight_Level_II</td>\n",
              "      <td>0</td>\n",
              "      <td>0</td>\n",
              "      <td>0</td>\n",
              "      <td>0</td>\n",
              "      <td>1</td>\n",
              "    </tr>\n",
              "  </tbody>\n",
              "</table>\n",
              "</div>"
            ],
            "text/plain": [
              "    Age  Height  Weight  ...  Bike  Motorbike  Public_Transportation\n",
              "0  21.0    1.62    64.0  ...     0          0                      1\n",
              "1  21.0    1.52    56.0  ...     0          0                      1\n",
              "2  23.0    1.80    77.0  ...     0          0                      1\n",
              "3  27.0    1.80    87.0  ...     0          0                      0\n",
              "4  22.0    1.78    89.8  ...     0          0                      1\n",
              "\n",
              "[5 rows x 20 columns]"
            ]
          },
          "metadata": {},
          "execution_count": 174
        }
      ]
    },
    {
      "cell_type": "code",
      "metadata": {
        "colab": {
          "base_uri": "https://localhost:8080/"
        },
        "id": "jyhmJX7-Hazw",
        "outputId": "ef55bea6-81b7-4bc7-99a5-ad55aa3c8a8a"
      },
      "source": [
        "## Label Encoding CAEC\n",
        "print(df['CAEC'].unique())\n",
        "df = df.replace({'CAEC': {'no': 0,'Sometimes': 1, 'Frequently': 2, 'Always': 3}}) \n",
        "print(df['CAEC'].unique())"
      ],
      "execution_count": null,
      "outputs": [
        {
          "output_type": "stream",
          "text": [
            "['Sometimes' 'Frequently' 'Always' 'no']\n",
            "[1 2 3 0]\n"
          ],
          "name": "stdout"
        }
      ]
    },
    {
      "cell_type": "code",
      "metadata": {
        "colab": {
          "base_uri": "https://localhost:8080/"
        },
        "id": "5INvXrUhHtBS",
        "outputId": "9483701d-1ef6-4da5-8899-8fe3db0102ca"
      },
      "source": [
        "## Label Encoding CALC\n",
        "print(df['CALC'].unique())\n",
        "df = df.replace({'CALC': {'no': 0,'Sometimes': 1, 'Frequently': 2, 'Always': 3}}) \n",
        "print(df['CALC'].unique())"
      ],
      "execution_count": null,
      "outputs": [
        {
          "output_type": "stream",
          "text": [
            "['no' 'Sometimes' 'Frequently' 'Always']\n",
            "[0 1 2 3]\n"
          ],
          "name": "stdout"
        }
      ]
    },
    {
      "cell_type": "code",
      "metadata": {
        "colab": {
          "base_uri": "https://localhost:8080/"
        },
        "id": "w0W3hbodH3RP",
        "outputId": "3c63ce31-8d6a-4618-96d3-61024f835e6e"
      },
      "source": [
        "df.columns"
      ],
      "execution_count": null,
      "outputs": [
        {
          "output_type": "execute_result",
          "data": {
            "text/plain": [
              "Index(['Age', 'Height', 'Weight', 'family_history_with_overweight', 'FAVC',\n",
              "       'FCVC', 'NCP', 'CAEC', 'SMOKE', 'CH2O', 'SCC', 'FAF', 'TUE', 'CALC',\n",
              "       'NObeyesdad', 'Female', 'Automobile', 'Bike', 'Motorbike',\n",
              "       'Public_Transportation'],\n",
              "      dtype='object')"
            ]
          },
          "metadata": {},
          "execution_count": 177
        }
      ]
    },
    {
      "cell_type": "code",
      "metadata": {
        "colab": {
          "base_uri": "https://localhost:8080/"
        },
        "id": "W6c0xPf4-_Sa",
        "outputId": "5424f922-394f-424d-a880-4f8ff4f217ad"
      },
      "source": [
        "df.info()"
      ],
      "execution_count": null,
      "outputs": [
        {
          "output_type": "stream",
          "text": [
            "<class 'pandas.core.frame.DataFrame'>\n",
            "RangeIndex: 2111 entries, 0 to 2110\n",
            "Data columns (total 20 columns):\n",
            " #   Column                          Non-Null Count  Dtype  \n",
            "---  ------                          --------------  -----  \n",
            " 0   Age                             2111 non-null   float64\n",
            " 1   Height                          2111 non-null   float64\n",
            " 2   Weight                          2111 non-null   float64\n",
            " 3   family_history_with_overweight  2111 non-null   int64  \n",
            " 4   FAVC                            2111 non-null   int64  \n",
            " 5   FCVC                            2111 non-null   float64\n",
            " 6   NCP                             2111 non-null   float64\n",
            " 7   CAEC                            2111 non-null   int64  \n",
            " 8   SMOKE                           2111 non-null   int64  \n",
            " 9   CH2O                            2111 non-null   float64\n",
            " 10  SCC                             2111 non-null   int64  \n",
            " 11  FAF                             2111 non-null   float64\n",
            " 12  TUE                             2111 non-null   float64\n",
            " 13  CALC                            2111 non-null   int64  \n",
            " 14  NObeyesdad                      2111 non-null   object \n",
            " 15  Female                          2111 non-null   uint8  \n",
            " 16  Automobile                      2111 non-null   uint8  \n",
            " 17  Bike                            2111 non-null   uint8  \n",
            " 18  Motorbike                       2111 non-null   uint8  \n",
            " 19  Public_Transportation           2111 non-null   uint8  \n",
            "dtypes: float64(8), int64(6), object(1), uint8(5)\n",
            "memory usage: 257.8+ KB\n"
          ],
          "name": "stdout"
        }
      ]
    },
    {
      "cell_type": "code",
      "metadata": {
        "colab": {
          "base_uri": "https://localhost:8080/"
        },
        "id": "rGfw7UhgINnm",
        "outputId": "c1e8e389-08a1-48fb-c311-799649cb8d64"
      },
      "source": [
        "df['NObeyesdad'].unique()"
      ],
      "execution_count": null,
      "outputs": [
        {
          "output_type": "execute_result",
          "data": {
            "text/plain": [
              "array(['Normal_Weight', 'Overweight_Level_I', 'Overweight_Level_II',\n",
              "       'Obesity_Type_I', 'Insufficient_Weight', 'Obesity_Type_II',\n",
              "       'Obesity_Type_III'], dtype=object)"
            ]
          },
          "metadata": {},
          "execution_count": 179
        }
      ]
    },
    {
      "cell_type": "code",
      "metadata": {
        "id": "ilwVQDB3NO7T"
      },
      "source": [
        "from scipy.stats import pointbiserialr"
      ],
      "execution_count": null,
      "outputs": []
    },
    {
      "cell_type": "code",
      "metadata": {
        "colab": {
          "base_uri": "https://localhost:8080/"
        },
        "id": "_RMZP_oRQuBx",
        "outputId": "ea819ae3-b658-4851-d1a6-2b642c74c1b7"
      },
      "source": [
        "for col in df.columns:\n",
        "  if(col=='NObeyesdad'):\n",
        "    continue\n",
        "  smm = df[col].values\n",
        "  ymm = df.replace({'NObeyesdad':\n",
        "                  {'Normal_Weight':1, 'Overweight_Level_I':2, 'Overweight_Level_II':3,\n",
        "       'Obesity_Type_I':4, 'Insufficient_Weight':5, 'Obesity_Type_II':6,\n",
        "       'Obesity_Type_III':7}})['NObeyesdad'].values\n",
        "  print(col,pointbiserialr(smm,ymm))"
      ],
      "execution_count": null,
      "outputs": [
        {
          "output_type": "stream",
          "text": [
            "Age PointbiserialrResult(correlation=0.0845652360490635, pvalue=0.00010021511523634328)\n",
            "Height PointbiserialrResult(correlation=0.13766159192224495, pvalue=2.1327900299317815e-10)\n",
            "Weight PointbiserialrResult(correlation=0.6343477721255579, pvalue=4.617524550058615e-238)\n",
            "family_history_with_overweight PointbiserialrResult(correlation=0.27514925316083355, pvalue=5.546780033428719e-38)\n",
            "FAVC PointbiserialrResult(correlation=0.2219481321300693, pvalue=5.69349010652948e-25)\n",
            "FCVC PointbiserialrResult(correlation=0.34395074458834884, pvalue=1.1004295789915557e-59)\n",
            "NCP PointbiserialrResult(correlation=0.15794700695220407, pvalue=2.909243431057601e-13)\n",
            "CAEC PointbiserialrResult(correlation=-0.15714991423266525, pvalue=3.8357548929048326e-13)\n",
            "SMOKE PointbiserialrResult(correlation=-0.030297544616935707, pvalue=0.16406343395390433)\n",
            "CH2O PointbiserialrResult(correlation=0.07042256985179904, pvalue=0.0012049220947972345)\n",
            "SCC PointbiserialrResult(correlation=-0.16964233470763468, pvalue=4.273216491416189e-15)\n",
            "FAF PointbiserialrResult(correlation=-0.14221093521176056, pvalue=5.256500376642717e-11)\n",
            "TUE PointbiserialrResult(correlation=-0.03435492035278393, pvalue=0.11456813970635556)\n",
            "CALC PointbiserialrResult(correlation=0.09662283991462582, pvalue=8.700681682304198e-06)\n",
            "Female PointbiserialrResult(correlation=0.13160531178444598, pvalue=1.2829133476258584e-09)\n",
            "Automobile PointbiserialrResult(correlation=-0.08368446086182565, pvalue=0.00011840237752442365)\n",
            "Bike PointbiserialrResult(correlation=-0.059284005972986734, pvalue=0.006437482474969294)\n",
            "Motorbike PointbiserialrResult(correlation=-0.07108951703531702, pvalue=0.0010813710834958463)\n",
            "Public_Transportation PointbiserialrResult(correlation=0.1619208671451504, pvalue=7.177133137513278e-14)\n"
          ],
          "name": "stdout"
        }
      ]
    },
    {
      "cell_type": "code",
      "metadata": {
        "colab": {
          "base_uri": "https://localhost:8080/"
        },
        "id": "gr4f5EdCUeb-",
        "outputId": "f80a16bb-8eae-4486-8a30-0a56776e05c5"
      },
      "source": [
        "df.shape"
      ],
      "execution_count": null,
      "outputs": [
        {
          "output_type": "execute_result",
          "data": {
            "text/plain": [
              "(2111, 20)"
            ]
          },
          "metadata": {},
          "execution_count": 182
        }
      ]
    },
    {
      "cell_type": "markdown",
      "metadata": {
        "id": "1ZTpOqLY_RjP"
      },
      "source": [
        "<h3>Taking Care of Outliers of Numerical float data</h3>"
      ]
    },
    {
      "cell_type": "code",
      "metadata": {
        "colab": {
          "base_uri": "https://localhost:8080/"
        },
        "id": "juvOo_QT_Q_E",
        "outputId": "a839a1b7-24eb-4181-cd65-406b9b49e6b5"
      },
      "source": [
        "df.dtypes[df.dtypes=='float']"
      ],
      "execution_count": null,
      "outputs": [
        {
          "output_type": "execute_result",
          "data": {
            "text/plain": [
              "Age       float64\n",
              "Height    float64\n",
              "Weight    float64\n",
              "FCVC      float64\n",
              "NCP       float64\n",
              "CH2O      float64\n",
              "FAF       float64\n",
              "TUE       float64\n",
              "dtype: object"
            ]
          },
          "metadata": {},
          "execution_count": 183
        }
      ]
    },
    {
      "cell_type": "code",
      "metadata": {
        "colab": {
          "base_uri": "https://localhost:8080/",
          "height": 283
        },
        "id": "_5Zxco4t_hgM",
        "outputId": "5b534f2f-4539-4d94-d134-1982c5980639"
      },
      "source": [
        "df['Weight'].plot(kind='box')"
      ],
      "execution_count": null,
      "outputs": [
        {
          "output_type": "execute_result",
          "data": {
            "text/plain": [
              "<matplotlib.axes._subplots.AxesSubplot at 0x7f9c7d2b39d0>"
            ]
          },
          "metadata": {},
          "execution_count": 184
        },
        {
          "output_type": "display_data",
          "data": {
            "image/png": "[encoded data removed]",
            "text/plain": [
              "<Figure size 432x288 with 1 Axes>"
            ]
          },
          "metadata": {
            "needs_background": "light"
          }
        }
      ]
    },
    {
      "cell_type": "code",
      "metadata": {
        "colab": {
          "base_uri": "https://localhost:8080/",
          "height": 285
        },
        "id": "nLrMGUqX_px5",
        "outputId": "de087781-9968-4e04-e451-c7316577fd5f"
      },
      "source": [
        "df['Height'].plot(kind='box')"
      ],
      "execution_count": null,
      "outputs": [
        {
          "output_type": "execute_result",
          "data": {
            "text/plain": [
              "<matplotlib.axes._subplots.AxesSubplot at 0x7f9c8aa7c990>"
            ]
          },
          "metadata": {},
          "execution_count": 82
        },
        {
          "output_type": "display_data",
          "data": {
            "image/png": "[encoded data removed]",
            "text/plain": [
              "<Figure size 432x288 with 1 Axes>"
            ]
          },
          "metadata": {
            "needs_background": "light"
          }
        }
      ]
    },
    {
      "cell_type": "code",
      "metadata": {
        "colab": {
          "base_uri": "https://localhost:8080/",
          "height": 283
        },
        "id": "eGKYns8n_uyW",
        "outputId": "8216e871-51e8-4289-eefc-5d76fe788fc0"
      },
      "source": [
        "df['FCVC'].plot(kind='box')"
      ],
      "execution_count": null,
      "outputs": [
        {
          "output_type": "execute_result",
          "data": {
            "text/plain": [
              "<matplotlib.axes._subplots.AxesSubplot at 0x7f9c8aa600d0>"
            ]
          },
          "metadata": {},
          "execution_count": 83
        },
        {
          "output_type": "display_data",
          "data": {
            "image/png": "[encoded data removed]",
            "text/plain": [
              "<Figure size 432x288 with 1 Axes>"
            ]
          },
          "metadata": {
            "needs_background": "light"
          }
        }
      ]
    },
    {
      "cell_type": "code",
      "metadata": {
        "colab": {
          "base_uri": "https://localhost:8080/",
          "height": 283
        },
        "id": "QYRJth2B_zuU",
        "outputId": "78a4d8eb-947b-4dea-ddc0-727aecd8f310"
      },
      "source": [
        "df['NCP'].plot(kind='box')\n"
      ],
      "execution_count": null,
      "outputs": [
        {
          "output_type": "execute_result",
          "data": {
            "text/plain": [
              "<matplotlib.axes._subplots.AxesSubplot at 0x7f9c8aa27050>"
            ]
          },
          "metadata": {},
          "execution_count": 84
        },
        {
          "output_type": "display_data",
          "data": {
            "image/png": "[encoded data removed]",
            "text/plain": [
              "<Figure size 432x288 with 1 Axes>"
            ]
          },
          "metadata": {
            "needs_background": "light"
          }
        }
      ]
    },
    {
      "cell_type": "code",
      "metadata": {
        "colab": {
          "base_uri": "https://localhost:8080/",
          "height": 283
        },
        "id": "ezwMd40T_9nD",
        "outputId": "230122bf-9aa9-4dfc-b624-76e195c619c9"
      },
      "source": [
        "df['CH2O'].plot(kind='box') ## No outliers"
      ],
      "execution_count": null,
      "outputs": [
        {
          "output_type": "execute_result",
          "data": {
            "text/plain": [
              "<matplotlib.axes._subplots.AxesSubplot at 0x7f9c8a938950>"
            ]
          },
          "metadata": {},
          "execution_count": 85
        },
        {
          "output_type": "display_data",
          "data": {
            "image/png": "[encoded data removed]",
            "text/plain": [
              "<Figure size 432x288 with 1 Axes>"
            ]
          },
          "metadata": {
            "needs_background": "light"
          }
        }
      ]
    },
    {
      "cell_type": "code",
      "metadata": {
        "colab": {
          "base_uri": "https://localhost:8080/",
          "height": 283
        },
        "id": "EofvCB6U__GJ",
        "outputId": "d301beb3-c8b3-4076-8880-f3ffbb3438e1"
      },
      "source": [
        "df['FAF'].plot(kind='box') ## No Outliers"
      ],
      "execution_count": null,
      "outputs": [
        {
          "output_type": "execute_result",
          "data": {
            "text/plain": [
              "<matplotlib.axes._subplots.AxesSubplot at 0x7f9c8a8bbfd0>"
            ]
          },
          "metadata": {},
          "execution_count": 86
        },
        {
          "output_type": "display_data",
          "data": {
            "image/png": "[encoded data removed]",
            "text/plain": [
              "<Figure size 432x288 with 1 Axes>"
            ]
          },
          "metadata": {
            "needs_background": "light"
          }
        }
      ]
    },
    {
      "cell_type": "code",
      "metadata": {
        "colab": {
          "base_uri": "https://localhost:8080/",
          "height": 283
        },
        "id": "FbNF0IsI__4K",
        "outputId": "3dbc8308-26f2-40fa-925b-6787abc409da"
      },
      "source": [
        "df['TUE'].plot(kind='box')  #No Outliers"
      ],
      "execution_count": null,
      "outputs": [
        {
          "output_type": "execute_result",
          "data": {
            "text/plain": [
              "<matplotlib.axes._subplots.AxesSubplot at 0x7f9c8a834050>"
            ]
          },
          "metadata": {},
          "execution_count": 87
        },
        {
          "output_type": "display_data",
          "data": {
            "image/png": "[encoded data removed]",
            "text/plain": [
              "<Figure size 432x288 with 1 Axes>"
            ]
          },
          "metadata": {
            "needs_background": "light"
          }
        }
      ]
    },
    {
      "cell_type": "code",
      "metadata": {
        "id": "jCOkPjr3Q-9O"
      },
      "source": [
        "from scipy import stats\n",
        "Z_scores=stats.zscore(df[\"Weight\"])"
      ],
      "execution_count": null,
      "outputs": []
    },
    {
      "cell_type": "code",
      "metadata": {
        "id": "AOOG9dwvRszS"
      },
      "source": [
        "abs_Z_scores=np.abs(Z_scores)\n",
        "filtered_Weight=(abs_Z_scores<3)\n",
        "df=df[filtered_Weight]"
      ],
      "execution_count": null,
      "outputs": []
    },
    {
      "cell_type": "code",
      "metadata": {
        "colab": {
          "base_uri": "https://localhost:8080/"
        },
        "id": "BBdUtQ4DSAkU",
        "outputId": "ea38fd63-58e9-4b35-a492-8340393c7fcd"
      },
      "source": [
        "df.shape"
      ],
      "execution_count": null,
      "outputs": [
        {
          "output_type": "execute_result",
          "data": {
            "text/plain": [
              "(2110, 20)"
            ]
          },
          "metadata": {},
          "execution_count": 187
        }
      ]
    },
    {
      "cell_type": "code",
      "metadata": {
        "colab": {
          "base_uri": "https://localhost:8080/",
          "height": 283
        },
        "id": "mZQhFa4IOHZk",
        "outputId": "a12f0052-a75d-4d0b-9734-0fd8ada4b5a2"
      },
      "source": [
        "df[\"Weight\"].plot(kind=\"box\")  #no outliers"
      ],
      "execution_count": null,
      "outputs": [
        {
          "output_type": "execute_result",
          "data": {
            "text/plain": [
              "<matplotlib.axes._subplots.AxesSubplot at 0x7f9c8a825590>"
            ]
          },
          "metadata": {},
          "execution_count": 91
        },
        {
          "output_type": "display_data",
          "data": {
            "image/png": "[encoded data removed]",
            "text/plain": [
              "<Figure size 432x288 with 1 Axes>"
            ]
          },
          "metadata": {
            "needs_background": "light"
          }
        }
      ]
    },
    {
      "cell_type": "code",
      "metadata": {
        "colab": {
          "base_uri": "https://localhost:8080/"
        },
        "id": "5gzJRuoUHxtT",
        "outputId": "339daa72-8eee-4284-8504-945f804029a1"
      },
      "source": [
        "### Taking Care of Outliers of NCP\n",
        "IQR = df['NCP'].quantile(0.75)-df['NCP'].quantile(0.25)\n",
        "Upper_limit = df['NCP'].quantile(0.75)+1.5*IQR\n",
        "Lower_limit = df['NCP'].quantile(0.25)-1.5*IQR\n",
        "df_ncp_out = df[(df['NCP']>=Upper_limit) | (df['NCP']<= Lower_limit)]\n",
        "df_ncp_out.shape"
      ],
      "execution_count": null,
      "outputs": [
        {
          "output_type": "execute_result",
          "data": {
            "text/plain": [
              "(579, 20)"
            ]
          },
          "metadata": {},
          "execution_count": 92
        }
      ]
    },
    {
      "cell_type": "code",
      "metadata": {
        "colab": {
          "base_uri": "https://localhost:8080/"
        },
        "id": "zFjbDurWKyOu",
        "outputId": "c3edb9ac-800d-40c2-ffe3-a57e1ec633ef"
      },
      "source": [
        "df['NCP'].unique()"
      ],
      "execution_count": null,
      "outputs": [
        {
          "output_type": "execute_result",
          "data": {
            "text/plain": [
              "array([3.      , 1.      , 4.      , 3.28926 , 3.995147, 1.72626 ,\n",
              "       2.581015, 1.600812, 1.73762 , 1.10548 , 2.0846  , 1.894384,\n",
              "       2.857787, 3.765526, 3.285167, 3.691226, 3.156153, 1.07976 ,\n",
              "       3.559841, 3.891994, 3.240578, 3.904858, 3.11158 , 3.590039,\n",
              "       2.057935, 3.558637, 2.000986, 3.821168, 3.897078, 3.092116,\n",
              "       3.286431, 3.592415, 3.754599, 3.566082, 3.725797, 3.520555,\n",
              "       3.731212, 1.259803, 1.273128, 3.304123, 3.647154, 3.300666,\n",
              "       3.535016, 1.717608, 2.884479, 3.626815, 1.473088, 3.16645 ,\n",
              "       3.494849, 2.99321 , 2.127797, 3.90779 , 3.699594, 3.179995,\n",
              "       1.075553, 3.238258, 3.804944, 1.630846, 3.762778, 3.371832,\n",
              "       2.705445, 3.34175 , 2.217651, 2.893778, 3.502604, 3.998766,\n",
              "       3.193671, 1.69608 , 2.812377, 1.612747, 1.082304, 1.882158,\n",
              "       2.326233, 1.989398, 1.735493, 2.974568, 3.715118, 3.489918,\n",
              "       3.378859, 3.263201, 3.994588, 3.24934 , 3.087544, 1.163666,\n",
              "       3.409363, 3.281391, 3.98525 , 3.207071, 3.471536, 3.488342,\n",
              "       3.443456, 3.03779 , 3.642802, 2.645858, 3.420618, 2.64155 ,\n",
              "       3.887906, 3.435905, 3.747163, 2.625475, 3.098399, 3.12544 ,\n",
              "       3.96981 , 3.712183, 3.832911, 3.576103, 3.56544 , 3.266644,\n",
              "       3.433908, 3.531038, 3.998618, 1.226342, 1.060796, 3.595761,\n",
              "       3.737914, 3.697831, 3.21043 , 3.45259 , 3.205587, 1.513835,\n",
              "       2.779379, 3.732126, 3.937099, 3.047959, 2.975362, 1.394539,\n",
              "       3.131032, 1.578521, 3.985442, 3.623364, 3.36313 , 1.146052,\n",
              "       3.981997, 1.9154  , 2.105616, 3.714833, 3.292386, 1.104642,\n",
              "       3.654061, 1.296156, 2.656588, 2.809716, 2.77684 , 1.999014,\n",
              "       2.644692, 2.449723, 2.794156, 1.146794, 1.131695, 2.488189,\n",
              "       3.999591, 3.612941, 3.950553, 2.951837, 2.799979, 2.228113,\n",
              "       3.042774, 1.198643, 1.555557, 3.987707, 3.995957, 1.047197,\n",
              "       1.193589, 3.390143, 3.546352, 3.266501, 3.554974, 2.372311,\n",
              "       2.10601 , 3.715306, 3.376717, 1.211606, 3.98955 , 3.171082,\n",
              "       3.105007, 1.590982, 1.704828, 2.725012, 2.372339, 1.097312,\n",
              "       1.068196, 1.411685, 2.752318, 2.737571, 2.973504, 2.608055,\n",
              "       2.625942, 1.411808, 1.095223, 3.30846 , 3.821461, 2.658639,\n",
              "       2.339614, 1.713762, 2.743277, 3.051804, 3.245148, 3.563744,\n",
              "       3.829101, 3.058539, 3.196043, 1.391778, 1.13715 , 3.322522,\n",
              "       3.269088, 2.938135, 1.259628, 2.965494, 2.845307, 3.095663,\n",
              "       3.483449, 3.156309, 3.728377, 3.60885 , 3.370362, 2.39007 ,\n",
              "       1.101404, 2.756405, 3.054899, 3.118013, 3.335876, 3.205009,\n",
              "       3.648194, 1.865238, 2.118153, 2.961113, 2.400943, 2.870005,\n",
              "       1.030416, 2.696051, 2.762883, 2.401341, 2.298612, 3.618722,\n",
              "       2.562895, 2.849848, 2.805436, 3.715148, 3.788602, 1.893811,\n",
              "       1.010319, 2.669766, 1.322087, 2.041558, 2.468421, 2.110937,\n",
              "       3.071028, 3.292956, 2.283673, 1.124977, 2.9948  , 2.983297,\n",
              "       1.890213, 1.888067, 2.256119, 2.6648  , 2.547086, 2.812283,\n",
              "       2.278652, 1.240046, 1.660768, 2.597608, 2.044035, 2.038373,\n",
              "       1.474836, 3.986652, 2.720642, 1.976744, 2.679724, 1.619796,\n",
              "       2.59257 , 1.546665, 3.339914, 3.884861, 2.358298, 1.802305,\n",
              "       2.7976  , 2.627173, 1.032887, 3.014808, 2.271734, 2.122545,\n",
              "       2.902766, 2.687502, 1.178708, 2.279546, 2.677693, 3.53009 ,\n",
              "       1.835543, 2.853676, 2.337035, 1.631184, 1.005391, 3.250467,\n",
              "       2.948721, 1.80993 , 1.94671 , 2.9796  , 2.994198, 2.579291,\n",
              "       2.449067, 1.532833, 2.961706, 1.152521, 1.729553, 1.346987,\n",
              "       1.977221, 2.443812, 2.491315, 2.843319, 2.157164, 2.601675,\n",
              "       1.171027, 3.362758, 1.672706, 2.714115, 2.521546, 1.338033,\n",
              "       1.081805, 3.087119, 2.909117, 1.466393, 1.471053, 2.983201,\n",
              "       2.783336, 1.863012, 3.053598, 3.165837, 2.741413, 1.058123,\n",
              "       2.997414, 1.672958, 1.680838, 3.070386, 2.608416, 1.599464,\n",
              "       2.815255, 2.395785, 2.844138, 2.716106, 1.402771, 2.865657,\n",
              "       1.836226, 2.884848, 2.375026, 2.9774  , 2.693646, 2.832018,\n",
              "       2.270163, 2.646717, 1.193729, 1.477581, 3.209508, 2.756622,\n",
              "       2.658478, 1.971472, 1.818026, 1.820779, 1.724887, 3.129155,\n",
              "       3.856434, 2.753418, 2.116195, 2.049908, 1.044628, 2.98212 ,\n",
              "       1.009426, 2.667711, 3.000974, 2.698883, 2.598079, 2.837388,\n",
              "       2.946063, 1.873484, 2.473911, 1.79558 , 2.623079, 2.174968,\n",
              "       2.676148, 3.394788, 2.137068, 2.937607, 1.313403, 2.113575,\n",
              "       2.092179, 2.974204, 1.001633, 1.2919  , 1.139317, 2.029858,\n",
              "       2.977543, 1.476204, 2.57038 , 2.879541, 1.458507, 1.105617,\n",
              "       1.854536, 1.08687 , 1.25535 , 2.870661, 1.482103, 1.81698 ,\n",
              "       2.582591, 2.164839, 2.141839, 2.877583, 2.95833 , 2.119826,\n",
              "       2.992606, 2.050121, 1.923607, 2.27374 , 1.418985, 1.320768,\n",
              "       2.964024, 2.933409, 2.962004, 1.271624, 1.00061 , 1.068443,\n",
              "       2.952821, 1.851088, 2.119682, 2.970675, 2.966803, 1.508685,\n",
              "       2.209314, 1.114564, 2.036794, 2.988539, 1.630506, 2.977999,\n",
              "       2.733077, 2.427137, 1.867836, 1.548407, 2.937989, 1.237454,\n",
              "       1.169173, 2.391753, 2.475444, 2.478794, 2.070033, 2.282392,\n",
              "       1.049534, 1.66338 , 1.672751, 1.734762, 1.92822 , 2.475228,\n",
              "       2.093831, 1.231915, 1.374791, 1.326982, 2.900915, 1.317884,\n",
              "       2.977909, 1.355752, 1.015488, 2.986172, 2.993623, 1.001383,\n",
              "       1.001542, 2.590283, 1.773916, 2.989112, 1.496776, 2.994046,\n",
              "       1.000283, 1.000414, 1.135278, 2.463113, 1.782109, 2.376374,\n",
              "       2.976098, 2.968098, 1.792695, 1.116401, 2.984523, 2.978103,\n",
              "       1.578751, 1.874532, 2.735706, 1.014916, 2.622055, 2.806566,\n",
              "       1.355354, 1.478334, 1.130751, 1.099151, 2.358455, 1.706551,\n",
              "       1.24884 , 1.250548, 1.202179, 1.194815, 2.880817, 2.918124,\n",
              "       1.073421, 1.416309, 2.18162 , 2.152733, 1.046144, 1.974233,\n",
              "       2.880794, 2.765213, 2.967089, 2.37985 , 2.655265, 1.941307,\n",
              "       1.709546, 2.883984, 2.935381, 2.961192, 2.973476, 2.392811,\n",
              "       1.293342, 2.930044, 2.129909, 2.831771, 2.595126, 2.52751 ,\n",
              "       2.120936, 1.468948, 3.990925, 2.834253, 3.734323, 2.049565,\n",
              "       2.272214, 2.218285, 1.418833, 1.109956, 3.914454, 3.169089,\n",
              "       2.419656, 2.175432, 2.806298, 2.987652, 2.842848, 1.134321,\n",
              "       1.924168, 2.701689, 2.992903, 2.658837, 2.80742 , 1.834472,\n",
              "       2.123138, 1.265463, 1.340361, 3.989492, 2.650088, 2.89292 ,\n",
              "       2.938902, 2.986637, 2.701521, 2.014671, 1.971659, 1.311797,\n",
              "       1.262831, 3.770379, 2.87747 , 2.175153, 2.13229 , 2.993634,\n",
              "       2.999346, 2.976211, 2.842035, 1.09749 , 1.91863 , 2.510135,\n",
              "       2.65772 , 2.604998, 2.567567, 2.434347, 1.845858, 1.627555,\n",
              "       1.569176, 2.371658, 2.378211, 2.301129, 2.454432, 2.915921,\n",
              "       2.992083, 2.849347, 2.954446, 3.755976, 2.902639, 2.372705,\n",
              "       2.100918, 2.272801, 2.692889, 2.280545, 2.675411, 1.487674,\n",
              "       1.02075 , 1.240424, 1.154318, 3.219347, 3.656401, 3.220181,\n",
              "       2.850948, 2.187145, 2.415522, 2.138375, 1.077331, 2.888193,\n",
              "       2.574108, 2.740492, 2.956422, 2.749334, 2.993856, 2.993084,\n",
              "       2.989791, 2.920373, 2.911568, 1.134042, 1.120102, 2.040582,\n",
              "       2.015675, 2.711238, 2.695396, 2.996834, 2.996444, 2.894142,\n",
              "       2.683061, 2.806341, 2.791366, 1.703299, 1.685134, 2.269799,\n",
              "       2.142328, 1.437959, 1.343117, 1.213431, 1.089048])"
            ]
          },
          "metadata": {},
          "execution_count": 93
        }
      ]
    },
    {
      "cell_type": "markdown",
      "metadata": {
        "id": "TPbkf9WDNE8I"
      },
      "source": [
        "Instead of Treating Outliers, we can instead convert NCP row as integer type.\n",
        "If a person consumed some n number of full meals. Subsequently he starts to consume next meal. Then he is considered he consumed n+1 meals."
      ]
    },
    {
      "cell_type": "code",
      "metadata": {
        "id": "sU0Ltfl2Lc00"
      },
      "source": [
        "## Converting or Typecasting NCP such that the values are ceiled in the above manner\n",
        "df['NCP'] = np.ceil(df['NCP'])"
      ],
      "execution_count": null,
      "outputs": []
    },
    {
      "cell_type": "code",
      "metadata": {
        "colab": {
          "base_uri": "https://localhost:8080/"
        },
        "id": "XwGsvIyyQ1-g",
        "outputId": "2fa6dc27-b045-4317-fb78-796de20c1260"
      },
      "source": [
        "df['NCP'].unique()"
      ],
      "execution_count": null,
      "outputs": [
        {
          "output_type": "execute_result",
          "data": {
            "text/plain": [
              "array([3., 1., 4., 2.])"
            ]
          },
          "metadata": {},
          "execution_count": 95
        }
      ]
    },
    {
      "cell_type": "code",
      "metadata": {
        "id": "cAaxk7swQ8KM"
      },
      "source": [
        "### TypeCasting the NCP Row to integer\n",
        "df['NCP'] = df['NCP'].astype('int')"
      ],
      "execution_count": null,
      "outputs": []
    },
    {
      "cell_type": "code",
      "metadata": {
        "colab": {
          "base_uri": "https://localhost:8080/"
        },
        "id": "HzUXlvpXA2Is",
        "outputId": "d7f95128-897c-4006-d3ca-78127863ab60"
      },
      "source": [
        "df['NCP'].unique()"
      ],
      "execution_count": null,
      "outputs": [
        {
          "output_type": "execute_result",
          "data": {
            "text/plain": [
              "array([3, 1, 4, 2])"
            ]
          },
          "metadata": {},
          "execution_count": 97
        }
      ]
    },
    {
      "cell_type": "code",
      "metadata": {
        "colab": {
          "base_uri": "https://localhost:8080/"
        },
        "id": "rYGBi2eQP2DP",
        "outputId": "e5c8d0d3-75e1-4240-e7db-59e5b5bcbbb0"
      },
      "source": [
        "print(len(df['NCP'].unique()))"
      ],
      "execution_count": null,
      "outputs": [
        {
          "output_type": "stream",
          "text": [
            "4\n"
          ],
          "name": "stdout"
        }
      ]
    },
    {
      "cell_type": "code",
      "metadata": {
        "colab": {
          "base_uri": "https://localhost:8080/",
          "height": 435
        },
        "id": "Px_80aXPeyqB",
        "outputId": "e1170f81-7e30-4004-9cf7-74201e9cf6b5"
      },
      "source": [
        "sns.heatmap(df.corr())"
      ],
      "execution_count": null,
      "outputs": [
        {
          "output_type": "execute_result",
          "data": {
            "text/plain": [
              "<matplotlib.axes._subplots.AxesSubplot at 0x7f9c8a815a90>"
            ]
          },
          "metadata": {},
          "execution_count": 99
        },
        {
          "output_type": "display_data",
          "data": {
            "image/png": "[encoded data removed]",
            "text/plain": [
              "<Figure size 432x288 with 2 Axes>"
            ]
          },
          "metadata": {
            "needs_background": "light"
          }
        }
      ]
    },
    {
      "cell_type": "markdown",
      "metadata": {
        "id": "1sQqOhHcrqPI"
      },
      "source": [
        "# ML Algorithm Routines"
      ]
    },
    {
      "cell_type": "code",
      "metadata": {
        "id": "ppfqhec3sIRC"
      },
      "source": [
        "from sklearn.ensemble import RandomForestClassifier\n",
        "from sklearn.tree import DecisionTreeClassifier\n",
        "from sklearn.neighbors import KNeighborsClassifier\n",
        "from sklearn.svm import SVC\n",
        "from sklearn import metrics"
      ],
      "execution_count": null,
      "outputs": []
    },
    {
      "cell_type": "markdown",
      "metadata": {
        "id": "10sVW1kvy5H0"
      },
      "source": [
        "The below function has three parameter which were considered keeping in mind all the models we use.\n",
        "<ul>\n",
        "<li>name: Name of the model</li>\n",
        "<li>n_neigh: Used by KNN inorder to set No of neighbors value.\n",
        "    The Possible values are\n",
        "    <ol>\n",
        "    <li>KNN:K Nearest Neighbors(default_value):</li>\n",
        "    <li>DT: Decision Tree</li>\n",
        "    <li>RF: Random Forest</li>\n",
        "    <li>SVC: Support Vector Classifier</li>\n",
        "    </ol>\n",
        "</li>\n",
        "<li>n_estim: Used by Random inorder to set No of neighbors value</li>\n",
        "<li>kern: Type of kernel used by SVC. \n",
        "    The possible values are\n",
        "    <ol type='a'>\n",
        "    <li>RBF</li>\n",
        "    <li>Linear</li>\n",
        "    </ol>\n",
        "</li>\n",
        "</ul>"
      ]
    },
    {
      "cell_type": "code",
      "metadata": {
        "id": "bMFR_f87rpWy"
      },
      "source": [
        "### A Sample Function to train and return a model \n",
        "def train_model(X_train, Y_train, name='KNN',n_neigh=5,n_estim=5,kern='rbf'):\n",
        "  if (name=='KNN'):\n",
        "    return KNeighborsClassifier(n_neighbors=n_neigh,metric='minkowski',p=2).fit(X_train,Y_train)\n",
        "  elif (name=='DT'):\n",
        "    return DecisionTreeClassifier().fit(X_train, Y_train)\n",
        "  elif (name=='RF'):\n",
        "    return RandomForestClassifier(n_estimators=n_estim, random_state=10).fit(X_train, Y_train)\n",
        "  elif (name=='SVC'):\n",
        "    return SVC(kernel=kern).fit(X_train, Y_train)\n"
      ],
      "execution_count": null,
      "outputs": []
    },
    {
      "cell_type": "code",
      "metadata": {
        "id": "Mr8i5wiowEYa"
      },
      "source": [
        "## A function to test on some Data and return predicted values\n",
        "def test_model(model,data):\n",
        "  y_pred = model.predict(data)\n",
        "  return y_pred"
      ],
      "execution_count": null,
      "outputs": []
    },
    {
      "cell_type": "code",
      "metadata": {
        "id": "W1N0RKbayzBZ"
      },
      "source": [
        "### A sample function to determine the metrics of a particular model.......\n",
        "def metrics_of_model(model,X_train, X_test, Y_train, Y_test):\n",
        "  y_pred = test_model(model, X_test)\n",
        "  y_pred_train = test_model(model, X_train) \n",
        "  acc_test = metrics.accuracy_score(y_pred.reshape(-1,1),Y_test) \n",
        "  acc_train = metrics.accuracy_score(y_pred_train.reshape(-1,1),Y_train) \n",
        "  cm_train = metrics.confusion_matrix(y_pred_train,Y_train)\n",
        "  cm_test = metrics.confusion_matrix(y_pred,Y_test)\n",
        "  return acc_train, acc_test, cm_train, cm_test"
      ],
      "execution_count": null,
      "outputs": []
    },
    {
      "cell_type": "markdown",
      "metadata": {
        "id": "A9hballsnASn"
      },
      "source": [
        ""
      ]
    },
    {
      "cell_type": "code",
      "metadata": {
        "id": "oEtXoTKn-SZT"
      },
      "source": [
        "df.to_csv(\"Cleaneddata.csv\")"
      ],
      "execution_count": null,
      "outputs": []
    },
    {
      "cell_type": "code",
      "metadata": {
        "id": "KMflI5DMVH9Y"
      },
      "source": [
        "X=df.drop([\"NObeyesdad\",\"Age\"],axis=1).values"
      ],
      "execution_count": null,
      "outputs": []
    },
    {
      "cell_type": "code",
      "metadata": {
        "colab": {
          "base_uri": "https://localhost:8080/"
        },
        "id": "tkekPx31kAkM",
        "outputId": "f34f4a0a-1930-4acb-a5a0-5c5031058783"
      },
      "source": [
        "X"
      ],
      "execution_count": null,
      "outputs": [
        {
          "output_type": "execute_result",
          "data": {
            "text/plain": [
              "array([[  1.62    ,  64.      ,   1.      , ...,   0.      ,   0.      ,\n",
              "          1.      ],\n",
              "       [  1.52    ,  56.      ,   1.      , ...,   0.      ,   0.      ,\n",
              "          1.      ],\n",
              "       [  1.8     ,  77.      ,   1.      , ...,   0.      ,   0.      ,\n",
              "          1.      ],\n",
              "       ...,\n",
              "       [  1.752206, 133.689352,   1.      , ...,   0.      ,   0.      ,\n",
              "          1.      ],\n",
              "       [  1.73945 , 133.346641,   1.      , ...,   0.      ,   0.      ,\n",
              "          1.      ],\n",
              "       [  1.738836, 133.472641,   1.      , ...,   0.      ,   0.      ,\n",
              "          1.      ]])"
            ]
          },
          "metadata": {},
          "execution_count": 106
        }
      ]
    },
    {
      "cell_type": "code",
      "metadata": {
        "id": "GGsGwczjkDmd"
      },
      "source": [
        "Y=df[\"NObeyesdad\"].values"
      ],
      "execution_count": null,
      "outputs": []
    },
    {
      "cell_type": "code",
      "metadata": {
        "colab": {
          "base_uri": "https://localhost:8080/"
        },
        "id": "g2HxEaHrkKMj",
        "outputId": "a6ab0286-1d0f-4fd1-9709-32c155daa500"
      },
      "source": [
        "Y"
      ],
      "execution_count": null,
      "outputs": [
        {
          "output_type": "execute_result",
          "data": {
            "text/plain": [
              "array(['Normal_Weight', 'Normal_Weight', 'Normal_Weight', ...,\n",
              "       'Obesity_Type_III', 'Obesity_Type_III', 'Obesity_Type_III'],\n",
              "      dtype=object)"
            ]
          },
          "metadata": {},
          "execution_count": 108
        }
      ]
    },
    {
      "cell_type": "code",
      "metadata": {
        "id": "qeVGl_DfkMtA"
      },
      "source": [
        "from sklearn.preprocessing import StandardScaler\n",
        "scaler = StandardScaler()\n",
        "scaler.fit(X)\n",
        "X_transformed = scaler.transform(X)"
      ],
      "execution_count": null,
      "outputs": []
    },
    {
      "cell_type": "code",
      "metadata": {
        "colab": {
          "base_uri": "https://localhost:8080/"
        },
        "id": "KaLdcO52kZaF",
        "outputId": "fba323d7-485a-4c40-9760-c5f8879825d8"
      },
      "source": [
        "X_transformed"
      ],
      "execution_count": null,
      "outputs": [
        {
          "output_type": "execute_result",
          "data": {
            "text/plain": [
              "array([[-0.87520248, -0.86302034,  0.4724282 , ..., -0.05769383,\n",
              "        -0.07239192,  0.57990412],\n",
              "       [-1.94778636, -1.16925812,  0.4724282 , ..., -0.05769383,\n",
              "        -0.07239192,  0.57990412],\n",
              "       [ 1.0554485 , -0.36538393,  0.4724282 , ..., -0.05769383,\n",
              "        -0.07239192,  0.57990412],\n",
              "       ...,\n",
              "       [ 0.54281776,  1.80466879,  0.4724282 , ..., -0.05769383,\n",
              "        -0.07239192,  0.57990412],\n",
              "       [ 0.40599896,  1.79154991,  0.4724282 , ..., -0.05769383,\n",
              "        -0.07239192,  0.57990412],\n",
              "       [ 0.39941329,  1.79637316,  0.4724282 , ..., -0.05769383,\n",
              "        -0.07239192,  0.57990412]])"
            ]
          },
          "metadata": {},
          "execution_count": 110
        }
      ]
    },
    {
      "cell_type": "code",
      "metadata": {
        "id": "n9eUE3c1ku-U",
        "colab": {
          "base_uri": "https://localhost:8080/"
        },
        "outputId": "0fb15b6a-af97-4da8-e6b8-ecf79a043886"
      },
      "source": [
        "Y"
      ],
      "execution_count": null,
      "outputs": [
        {
          "output_type": "execute_result",
          "data": {
            "text/plain": [
              "array(['Normal_Weight', 'Normal_Weight', 'Normal_Weight', ...,\n",
              "       'Obesity_Type_III', 'Obesity_Type_III', 'Obesity_Type_III'],\n",
              "      dtype=object)"
            ]
          },
          "metadata": {},
          "execution_count": 111
        }
      ]
    },
    {
      "cell_type": "markdown",
      "metadata": {
        "id": "NgeiIhuCneHG"
      },
      "source": [
        "<h2>Splitting Data into Train and Test Sets</h2>"
      ]
    },
    {
      "cell_type": "code",
      "metadata": {
        "id": "Lxzud8jznRaF"
      },
      "source": [
        "from sklearn.model_selection import train_test_split\n"
      ],
      "execution_count": null,
      "outputs": []
    },
    {
      "cell_type": "code",
      "metadata": {
        "id": "_ERkNXCblk0C"
      },
      "source": [
        "X_train,X_test, Y_train, Y_test = train_test_split(X_transformed,Y,test_size=0.3)"
      ],
      "execution_count": null,
      "outputs": []
    },
    {
      "cell_type": "markdown",
      "metadata": {
        "id": "oCu31wX83wyi"
      },
      "source": [
        "# Building ML Models With entire input data X\n",
        "\n"
      ]
    },
    {
      "cell_type": "code",
      "metadata": {
        "id": "ZNav4-hM3wy3"
      },
      "source": [
        "X2=df.drop([\"NObeyesdad\"],axis=1).values"
      ],
      "execution_count": null,
      "outputs": []
    },
    {
      "cell_type": "code",
      "metadata": {
        "colab": {
          "base_uri": "https://localhost:8080/"
        },
        "id": "_KCrRQfG3wy3",
        "outputId": "b1d7ca62-c6cb-417c-8054-7d6e894d6a0f"
      },
      "source": [
        "X2"
      ],
      "execution_count": null,
      "outputs": [
        {
          "output_type": "execute_result",
          "data": {
            "text/plain": [
              "array([[ 21.      ,   1.62    ,  64.      , ...,   0.      ,   0.      ,\n",
              "          1.      ],\n",
              "       [ 21.      ,   1.52    ,  56.      , ...,   0.      ,   0.      ,\n",
              "          1.      ],\n",
              "       [ 23.      ,   1.8     ,  77.      , ...,   0.      ,   0.      ,\n",
              "          1.      ],\n",
              "       ...,\n",
              "       [ 22.524036,   1.752206, 133.689352, ...,   0.      ,   0.      ,\n",
              "          1.      ],\n",
              "       [ 24.361936,   1.73945 , 133.346641, ...,   0.      ,   0.      ,\n",
              "          1.      ],\n",
              "       [ 23.664709,   1.738836, 133.472641, ...,   0.      ,   0.      ,\n",
              "          1.      ]])"
            ]
          },
          "metadata": {},
          "execution_count": 115
        }
      ]
    },
    {
      "cell_type": "code",
      "metadata": {
        "id": "CMB2Zumu3wy4"
      },
      "source": [
        "Y=df[\"NObeyesdad\"].values"
      ],
      "execution_count": null,
      "outputs": []
    },
    {
      "cell_type": "code",
      "metadata": {
        "colab": {
          "base_uri": "https://localhost:8080/"
        },
        "id": "xuAn-qh03wy4",
        "outputId": "4e17cc15-ed34-4579-8ca2-8efe22f53abe"
      },
      "source": [
        "Y"
      ],
      "execution_count": null,
      "outputs": [
        {
          "output_type": "execute_result",
          "data": {
            "text/plain": [
              "array(['Normal_Weight', 'Normal_Weight', 'Normal_Weight', ...,\n",
              "       'Obesity_Type_III', 'Obesity_Type_III', 'Obesity_Type_III'],\n",
              "      dtype=object)"
            ]
          },
          "metadata": {},
          "execution_count": 117
        }
      ]
    },
    {
      "cell_type": "code",
      "metadata": {
        "id": "TEbC5c_u3wy4"
      },
      "source": [
        "scaler = StandardScaler()\n",
        "scaler.fit(X2)\n",
        "X_transformed_2 = scaler.transform(X2)"
      ],
      "execution_count": null,
      "outputs": []
    },
    {
      "cell_type": "code",
      "metadata": {
        "colab": {
          "base_uri": "https://localhost:8080/"
        },
        "id": "hFNVHLfN3wy4",
        "outputId": "e853060e-3cbd-4a69-da12-d6e502e4bccb"
      },
      "source": [
        "X_transformed_2"
      ],
      "execution_count": null,
      "outputs": [
        {
          "output_type": "execute_result",
          "data": {
            "text/plain": [
              "array([[-0.52259476, -0.87520248, -0.86302034, ..., -0.05769383,\n",
              "        -0.07239192,  0.57990412],\n",
              "       [-0.52259476, -1.94778636, -1.16925812, ..., -0.05769383,\n",
              "        -0.07239192,  0.57990412],\n",
              "       [-0.20736007,  1.0554485 , -0.36538393, ..., -0.05769383,\n",
              "        -0.07239192,  0.57990412],\n",
              "       ...,\n",
              "       [-0.28238025,  0.54281776,  1.80466879, ..., -0.05769383,\n",
              "        -0.07239192,  0.57990412],\n",
              "       [ 0.00730467,  0.40599896,  1.79154991, ..., -0.05769383,\n",
              "        -0.07239192,  0.57990412],\n",
              "       [-0.1025904 ,  0.39941329,  1.79637316, ..., -0.05769383,\n",
              "        -0.07239192,  0.57990412]])"
            ]
          },
          "metadata": {},
          "execution_count": 119
        }
      ]
    },
    {
      "cell_type": "code",
      "metadata": {
        "colab": {
          "base_uri": "https://localhost:8080/"
        },
        "id": "RcnKW_2r3wy4",
        "outputId": "25a43beb-8129-41fe-d8c6-20a5f2512c10"
      },
      "source": [
        "Y"
      ],
      "execution_count": null,
      "outputs": [
        {
          "output_type": "execute_result",
          "data": {
            "text/plain": [
              "array(['Normal_Weight', 'Normal_Weight', 'Normal_Weight', ...,\n",
              "       'Obesity_Type_III', 'Obesity_Type_III', 'Obesity_Type_III'],\n",
              "      dtype=object)"
            ]
          },
          "metadata": {},
          "execution_count": 120
        }
      ]
    },
    {
      "cell_type": "code",
      "metadata": {
        "colab": {
          "base_uri": "https://localhost:8080/"
        },
        "id": "lawY-s7vZ0Rg",
        "outputId": "6db6bcd4-09cf-4d73-e053-b6766a68832d"
      },
      "source": [
        "X_transformed_2.shape"
      ],
      "execution_count": null,
      "outputs": [
        {
          "output_type": "execute_result",
          "data": {
            "text/plain": [
              "(2110, 19)"
            ]
          },
          "metadata": {},
          "execution_count": 121
        }
      ]
    },
    {
      "cell_type": "code",
      "metadata": {
        "id": "SLPqv3lbaeyA"
      },
      "source": [
        "def metrics_of_model_2(model,X_tr, X_te):\n",
        "  y_pred = test_model(model, X_te)\n",
        "  y_pred_train = test_model(model, X_tr) \n",
        "  acc_test = metrics.accuracy_score(y_pred,Y_test_1) \n",
        "  acc_train = metrics.accuracy_score(y_pred_train,Y_train_1)\n",
        "  cm_train = metrics.confusion_matrix(y_pred_train,Y_train_1)\n",
        "  cm_test = metrics.confusion_matrix(y_pred,Y_test_1)\n",
        "  return acc_train, acc_test, cm_train, cm_test"
      ],
      "execution_count": null,
      "outputs": []
    },
    {
      "cell_type": "markdown",
      "metadata": {
        "id": "crYUOsTk3wy5"
      },
      "source": [
        "<h2>Splitting Data into Train and Test Sets</h2>"
      ]
    },
    {
      "cell_type": "code",
      "metadata": {
        "id": "8E3ZU_-l3wy5"
      },
      "source": [
        "X_train_1,X_test_1, Y_train_1, Y_test_1 = train_test_split(X_transformed_2,Y,test_size=0.3)"
      ],
      "execution_count": null,
      "outputs": []
    },
    {
      "cell_type": "code",
      "metadata": {
        "colab": {
          "base_uri": "https://localhost:8080/"
        },
        "id": "9E3r32E_3wy5",
        "outputId": "74200f5b-9ca7-4d73-b0ed-fc67dbd43b57"
      },
      "source": [
        "models = ['KNN','DT','RF','SVC']\n",
        "Class_Models = []\n",
        "for model_name in models:\n",
        "  model = train_model(X_train_1, Y_train_1, name=model_name)\n",
        "  print(model_name)\n",
        "  acc_train, acc_test, cm_train, cm_test = metrics_of_model(model, X_train_1, X_test_1, Y_train_1, Y_test_1)\n",
        "  print(acc_train, acc_test)"
      ],
      "execution_count": null,
      "outputs": [
        {
          "output_type": "stream",
          "text": [
            "KNN\n",
            "0.8571428571428571 0.7883096366508688\n",
            "DT\n",
            "1.0 0.9541864139020537\n",
            "RF\n",
            "0.991875423155044 0.8909952606635071\n",
            "SVC\n",
            "0.9410968178740691 0.8515007898894155\n"
          ],
          "name": "stdout"
        }
      ]
    },
    {
      "cell_type": "code",
      "metadata": {
        "id": "VszwhZsF3wy6"
      },
      "source": [
        ""
      ],
      "execution_count": null,
      "outputs": []
    },
    {
      "cell_type": "markdown",
      "metadata": {
        "id": "TxfAU0YcI3Ph"
      },
      "source": [
        "Testing KNN for n_neigh in between 5,25"
      ]
    },
    {
      "cell_type": "code",
      "metadata": {
        "id": "ovxuLvkqI3Pm"
      },
      "source": [
        "train_acc_2=[]\n",
        "test_acc_2 = []\n",
        "for k in range(5,31):\n",
        "  model = train_model(X_train_1, Y_train_1, name='KNN',n_neigh=k)\n",
        "  y_pred = test_model(model, X_test_1)\n",
        "  acc_train, acc_test , cm_train, cm_test = metrics_of_model(model,X_train_1, X_test_1, Y_train_1, Y_test_1)\n",
        "  train_acc_2.append(acc_train)\n",
        "  test_acc_2.append(acc_test)"
      ],
      "execution_count": null,
      "outputs": []
    },
    {
      "cell_type": "code",
      "metadata": {
        "colab": {
          "base_uri": "https://localhost:8080/",
          "height": 379
        },
        "id": "jy7YwM0GI3Po",
        "outputId": "da5e8452-fabc-431c-8cb4-4dc6bfe6c0a5"
      },
      "source": [
        "plt.figure(figsize=(15,6))\n",
        "plt.plot(list(range(5,31)),train_acc_2, label='Train')\n",
        "plt.plot(list(range(5,31)),test_acc_2,label='Test')\n",
        "plt.legend()\n"
      ],
      "execution_count": null,
      "outputs": [
        {
          "output_type": "execute_result",
          "data": {
            "text/plain": [
              "<matplotlib.legend.Legend at 0x7f9c7d7e1990>"
            ]
          },
          "metadata": {},
          "execution_count": 129
        },
        {
          "output_type": "display_data",
          "data": {
            "image/png": "[encoded data removed]",
            "text/plain": [
              "<Figure size 1080x432 with 1 Axes>"
            ]
          },
          "metadata": {
            "needs_background": "light"
          }
        }
      ]
    },
    {
      "cell_type": "code",
      "metadata": {
        "id": "FbDMuYyVI3Pq"
      },
      "source": [
        "test_rf_acc=[]\n",
        "train_rf_acc=[]\n",
        "models=[]\n",
        "for n in range(5,35):\n",
        "  model = train_model(X_train_1, Y_train_1, name='RF', n_estim=n)\n",
        "  y_pred = test_model(model, X_test_1)\n",
        "  acc_train, acc_test, cm_train, cm_test = metrics_of_model(model, X_train_1, X_test_1, Y_train_1, Y_test_1)\n",
        "  train_rf_acc.append(acc_train)\n",
        "  test_rf_acc.append(acc_test)\n",
        "  models.append(model)"
      ],
      "execution_count": null,
      "outputs": []
    },
    {
      "cell_type": "code",
      "metadata": {
        "id": "r0t8FYoXc2IP",
        "colab": {
          "base_uri": "https://localhost:8080/"
        },
        "outputId": "253032c4-cdde-4ec5-835c-d9464c8d654f"
      },
      "source": [
        "for i in range(len(test_rf_acc)):\n",
        "  print(train_rf_acc[i],test_rf_acc[i])"
      ],
      "execution_count": null,
      "outputs": [
        {
          "output_type": "stream",
          "text": [
            "0.991875423155044 0.8909952606635071\n",
            "0.993906567366283 0.9162717219589257\n",
            "0.995260663507109 0.9210110584518167\n",
            "0.995937711577522 0.9304897314375987\n",
            "0.997968855788761 0.9352290679304898\n",
            "0.997291807718348 0.9399684044233807\n",
            "0.997968855788761 0.9352290679304898\n",
            "0.997968855788761 0.9383886255924171\n",
            "0.998645903859174 0.9352290679304898\n",
            "1.0 0.9368088467614534\n",
            "1.0 0.9352290679304898\n",
            "1.0 0.9383886255924171\n",
            "1.0 0.9415481832543444\n",
            "1.0 0.933649289099526\n",
            "1.0 0.9368088467614534\n",
            "1.0 0.943127962085308\n",
            "1.0 0.9415481832543444\n",
            "1.0 0.943127962085308\n",
            "1.0 0.9399684044233807\n",
            "1.0 0.9399684044233807\n",
            "1.0 0.9399684044233807\n",
            "1.0 0.9399684044233807\n",
            "1.0 0.9399684044233807\n",
            "1.0 0.9399684044233807\n",
            "1.0 0.9399684044233807\n",
            "1.0 0.9368088467614534\n",
            "1.0 0.9383886255924171\n",
            "1.0 0.9368088467614534\n",
            "1.0 0.9383886255924171\n",
            "1.0 0.9368088467614534\n"
          ],
          "name": "stdout"
        }
      ]
    },
    {
      "cell_type": "code",
      "metadata": {
        "colab": {
          "base_uri": "https://localhost:8080/",
          "height": 435
        },
        "id": "-54RHj8EI3Pr",
        "outputId": "00170eda-cdf5-4c56-bd57-0af314d9808d"
      },
      "source": [
        "plt.figure(figsize=(15,7))\n",
        "plt.plot(list(range(5,35)),train_rf_acc, label='train')\n",
        "plt.plot(list(range(5,35)),test_rf_acc, label='test')\n",
        "plt.legend()"
      ],
      "execution_count": null,
      "outputs": [
        {
          "output_type": "execute_result",
          "data": {
            "text/plain": [
              "<matplotlib.legend.Legend at 0x7f9c7d6c5890>"
            ]
          },
          "metadata": {},
          "execution_count": 131
        },
        {
          "output_type": "display_data",
          "data": {
            "image/png": "[encoded data removed]",
            "text/plain": [
              "<Figure size 1080x504 with 1 Axes>"
            ]
          },
          "metadata": {
            "needs_background": "light"
          }
        }
      ]
    },
    {
      "cell_type": "code",
      "metadata": {
        "colab": {
          "base_uri": "https://localhost:8080/"
        },
        "id": "m75JK0dHI3Ps",
        "outputId": "289b0675-92e9-414b-aa67-f58e5118db92"
      },
      "source": [
        "highest_acc = test_rf_acc.index(max(test_rf_acc))\n",
        "print(train_rf_acc[highest_acc]*100, test_rf_acc[highest_acc]*100)\n",
        "Efficient_Model_2 = models[highest_acc]\n",
        "print(\"Highest Accuracy is possible at Number of Estimators:\",highest_acc+5)"
      ],
      "execution_count": null,
      "outputs": [
        {
          "output_type": "stream",
          "text": [
            "100.0 94.3127962085308\n",
            "Highest Accuracy is possible at Number of Estimators: 20\n"
          ],
          "name": "stdout"
        }
      ]
    },
    {
      "cell_type": "markdown",
      "metadata": {
        "id": "rRYl9wrpKKR_"
      },
      "source": [
        "The Model which is highly efficient for the above data is Random Forest"
      ]
    },
    {
      "cell_type": "markdown",
      "metadata": {
        "id": "sV6LG3HGSXtk"
      },
      "source": [
        "# Metrics for Above Model"
      ]
    },
    {
      "cell_type": "code",
      "metadata": {
        "id": "Ugo3ncgGJ_aD",
        "colab": {
          "base_uri": "https://localhost:8080/"
        },
        "outputId": "4d488f83-940d-4186-cad6-480b54f8e7b9"
      },
      "source": [
        "Efficient_Model_2"
      ],
      "execution_count": null,
      "outputs": [
        {
          "output_type": "execute_result",
          "data": {
            "text/plain": [
              "RandomForestClassifier(bootstrap=True, ccp_alpha=0.0, class_weight=None,\n",
              "                       criterion='gini', max_depth=None, max_features='auto',\n",
              "                       max_leaf_nodes=None, max_samples=None,\n",
              "                       min_impurity_decrease=0.0, min_impurity_split=None,\n",
              "                       min_samples_leaf=1, min_samples_split=2,\n",
              "                       min_weight_fraction_leaf=0.0, n_estimators=20,\n",
              "                       n_jobs=None, oob_score=False, random_state=10, verbose=0,\n",
              "                       warm_start=False)"
            ]
          },
          "metadata": {},
          "execution_count": 133
        }
      ]
    },
    {
      "cell_type": "code",
      "metadata": {
        "id": "D3j5lP3gYV7l"
      },
      "source": [
        "RF=RandomForestClassifier(n_estimators=8,random_state=10)"
      ],
      "execution_count": null,
      "outputs": []
    },
    {
      "cell_type": "code",
      "metadata": {
        "colab": {
          "base_uri": "https://localhost:8080/"
        },
        "id": "7qgrN6jaYqDm",
        "outputId": "9bd0ec53-5c51-4a2b-a59a-528af37bb6f9"
      },
      "source": [
        "RF.fit(X_train_1,Y_train_1)"
      ],
      "execution_count": null,
      "outputs": [
        {
          "output_type": "execute_result",
          "data": {
            "text/plain": [
              "RandomForestClassifier(bootstrap=True, ccp_alpha=0.0, class_weight=None,\n",
              "                       criterion='gini', max_depth=None, max_features='auto',\n",
              "                       max_leaf_nodes=None, max_samples=None,\n",
              "                       min_impurity_decrease=0.0, min_impurity_split=None,\n",
              "                       min_samples_leaf=1, min_samples_split=2,\n",
              "                       min_weight_fraction_leaf=0.0, n_estimators=8,\n",
              "                       n_jobs=None, oob_score=False, random_state=10, verbose=0,\n",
              "                       warm_start=False)"
            ]
          },
          "metadata": {},
          "execution_count": 203
        }
      ]
    },
    {
      "cell_type": "code",
      "metadata": {
        "id": "CJpVWHYxKCbp"
      },
      "source": [
        "y_pred_2 = RF.predict(X_test_1)\n",
        "y_pred_2_train = RF.predict(X_train_1)"
      ],
      "execution_count": null,
      "outputs": []
    },
    {
      "cell_type": "markdown",
      "metadata": {
        "id": "osFCnjyvykUf"
      },
      "source": [
        "<p>Y_pred_2 is the predicted values of BMI's on the test set</p>\n",
        "<p>Y_pred_2_train is the predicted values of BMI's on the train set</p>"
      ]
    },
    {
      "cell_type": "code",
      "metadata": {
        "id": "OasQwkiwdEQU",
        "colab": {
          "base_uri": "https://localhost:8080/"
        },
        "outputId": "8d705148-bfbb-4298-a2c3-2fc27545a584"
      },
      "source": [
        "print(\"Accuracy Scores of Train and Test Sets are \",metrics.accuracy_score(y_pred_2_train, Y_train_1),metrics.accuracy_score(y_pred_2, Y_test_1))"
      ],
      "execution_count": null,
      "outputs": [
        {
          "output_type": "stream",
          "text": [
            "Accuracy Scores of Train and Test Sets are  0.995937711577522 0.9304897314375987\n"
          ],
          "name": "stdout"
        }
      ]
    },
    {
      "cell_type": "code",
      "metadata": {
        "id": "JSg-pW4KdS4Y",
        "colab": {
          "base_uri": "https://localhost:8080/"
        },
        "outputId": "8beb7d4e-8c37-44e1-cb98-cbe03e1207a1"
      },
      "source": [
        "print(\"Precision Recall and F1-Scores of each Class are\")\n",
        "print(metrics.classification_report(y_pred_2, Y_test_1))"
      ],
      "execution_count": null,
      "outputs": [
        {
          "output_type": "stream",
          "text": [
            "Precision Recall and F1-Scores of each Class are\n",
            "                     precision    recall  f1-score   support\n",
            "\n",
            "Insufficient_Weight       0.96      0.96      0.96        84\n",
            "      Normal_Weight       0.90      0.84      0.87        88\n",
            "     Obesity_Type_I       0.96      0.97      0.97       100\n",
            "    Obesity_Type_II       1.00      1.00      1.00        86\n",
            "   Obesity_Type_III       1.00      1.00      1.00       103\n",
            " Overweight_Level_I       0.85      0.86      0.85        92\n",
            "Overweight_Level_II       0.82      0.86      0.84        80\n",
            "\n",
            "           accuracy                           0.93       633\n",
            "          macro avg       0.93      0.93      0.93       633\n",
            "       weighted avg       0.93      0.93      0.93       633\n",
            "\n"
          ],
          "name": "stdout"
        }
      ]
    },
    {
      "cell_type": "code",
      "metadata": {
        "id": "zvoRBBFHd7Sj",
        "colab": {
          "base_uri": "https://localhost:8080/"
        },
        "outputId": "59009622-f862-4361-ec67-8411a5b6ebab"
      },
      "source": [
        "metrics.multilabel_confusion_matrix(y_pred_2, Y_test_1)"
      ],
      "execution_count": null,
      "outputs": [
        {
          "output_type": "execute_result",
          "data": {
            "text/plain": [
              "array([[[546,   3],\n",
              "        [  3,  81]],\n",
              "\n",
              "       [[537,   8],\n",
              "        [ 14,  74]],\n",
              "\n",
              "       [[529,   4],\n",
              "        [  3,  97]],\n",
              "\n",
              "       [[547,   0],\n",
              "        [  0,  86]],\n",
              "\n",
              "       [[530,   0],\n",
              "        [  0, 103]],\n",
              "\n",
              "       [[527,  14],\n",
              "        [ 13,  79]],\n",
              "\n",
              "       [[538,  15],\n",
              "        [ 11,  69]]])"
            ]
          },
          "metadata": {},
          "execution_count": 207
        }
      ]
    },
    {
      "cell_type": "code",
      "metadata": {
        "id": "FmMWG3ugNXwf"
      },
      "source": [
        "from sklearn.model_selection import cross_val_score,cross_val_predict,KFold"
      ],
      "execution_count": null,
      "outputs": []
    },
    {
      "cell_type": "code",
      "metadata": {
        "colab": {
          "base_uri": "https://localhost:8080/"
        },
        "id": "r2HQh1eLSzdD",
        "outputId": "059a0683-b505-4f5d-c9b2-8bf66c6dc83e"
      },
      "source": [
        "scores = cross_val_score(RF, X2, Y,cv=5, n_jobs=1)\n",
        "print(scores)"
      ],
      "execution_count": null,
      "outputs": [
        {
          "output_type": "stream",
          "text": [
            "[0.69668246 0.97630332 0.92890995 0.94312796 0.97630332]\n"
          ],
          "name": "stdout"
        }
      ]
    },
    {
      "cell_type": "code",
      "metadata": {
        "colab": {
          "base_uri": "https://localhost:8080/"
        },
        "id": "NJ0bsxPSTKOZ",
        "outputId": "dca9b3ca-ace4-48c5-d5d3-b8213076625f"
      },
      "source": [
        "print(np.mean(scores))"
      ],
      "execution_count": null,
      "outputs": [
        {
          "output_type": "stream",
          "text": [
            "0.9042654028436019\n"
          ],
          "name": "stdout"
        }
      ]
    },
    {
      "cell_type": "code",
      "metadata": {
        "id": "itBVzjWRPhER"
      },
      "source": [
        "DT=DecisionTreeClassifier()"
      ],
      "execution_count": null,
      "outputs": []
    },
    {
      "cell_type": "code",
      "metadata": {
        "colab": {
          "base_uri": "https://localhost:8080/"
        },
        "id": "WDw07XMrXpOk",
        "outputId": "3f632fcf-cc14-4aec-fa10-1c6f16455ca1"
      },
      "source": [
        "scores_dt=cross_val_score(DT, X2, Y,cv=5, n_jobs=1)\n",
        "print(scores_dt)"
      ],
      "execution_count": null,
      "outputs": [
        {
          "output_type": "stream",
          "text": [
            "[0.83649289 0.95971564 0.94549763 0.9478673  0.95023697]\n"
          ],
          "name": "stdout"
        }
      ]
    },
    {
      "cell_type": "code",
      "metadata": {
        "colab": {
          "base_uri": "https://localhost:8080/"
        },
        "id": "rK_QnULgX08O",
        "outputId": "e72c5625-8067-40dc-ae84-663101f5c418"
      },
      "source": [
        "print(np.mean(scores_dt))"
      ],
      "execution_count": null,
      "outputs": [
        {
          "output_type": "stream",
          "text": [
            "0.9279620853080569\n"
          ],
          "name": "stdout"
        }
      ]
    },
    {
      "cell_type": "code",
      "metadata": {
        "colab": {
          "base_uri": "https://localhost:8080/"
        },
        "id": "k8v8w9a0QurV",
        "outputId": "41877060-8533-49ed-dd0d-d89ed71254a8"
      },
      "source": [
        ""
      ],
      "execution_count": null,
      "outputs": [
        {
          "output_type": "execute_result",
          "data": {
            "text/plain": [
              "GridSearchCV(cv=5, error_score=nan,\n",
              "             estimator=RandomForestClassifier(bootstrap=True, ccp_alpha=0.0,\n",
              "                                              class_weight=None,\n",
              "                                              criterion='gini', max_depth=None,\n",
              "                                              max_features='auto',\n",
              "                                              max_leaf_nodes=None,\n",
              "                                              max_samples=None,\n",
              "                                              min_impurity_decrease=0.0,\n",
              "                                              min_impurity_split=None,\n",
              "                                              min_samples_leaf=1,\n",
              "                                              min_samples_split=2,\n",
              "                                              min_weight_fraction_leaf=0.0,\n",
              "                                              n_estimators=20, n_jobs=None,\n",
              "                                              oob_score=False, random_state=10,\n",
              "                                              verbose=0, warm_start=False),\n",
              "             iid='deprecated', n_jobs=2,\n",
              "             param_grid={'max_depth': [None, 4, 6, 8, 10, 12, 15, 20],\n",
              "                         'max_features': ['auto', 'sqrt', 'log2'],\n",
              "                         'min_samples_leaf': [1, 2, 4, 6, 8, 10, 20, 30]},\n",
              "             pre_dispatch='2*n_jobs', refit=True, return_train_score=True,\n",
              "             scoring=None, verbose=0)"
            ]
          },
          "metadata": {},
          "execution_count": 148
        }
      ]
    },
    {
      "cell_type": "code",
      "metadata": {
        "colab": {
          "base_uri": "https://localhost:8080/",
          "height": 307
        },
        "id": "37c0GbPXRKuV",
        "outputId": "38e39cb2-acfa-44e6-bc57-3fcb309f65c4"
      },
      "source": [
        ""
      ],
      "execution_count": null,
      "outputs": [
        {
          "output_type": "stream",
          "text": [
            "Optimal hyperparameter combination:  {'max_depth': 12, 'max_features': 'auto', 'min_samples_leaf': 2}\n",
            "Mean cross-validated MSE or training score of the best_estimator:  nan\n"
          ],
          "name": "stdout"
        },
        {
          "output_type": "stream",
          "text": [
            "/usr/local/lib/python3.7/dist-packages/ipykernel_launcher.py:3: RuntimeWarning: invalid value encountered in sqrt\n",
            "  This is separate from the ipykernel package so we can avoid doing imports until\n"
          ],
          "name": "stderr"
        },
        {
          "output_type": "error",
          "ename": "NameError",
          "evalue": "ignored",
          "traceback": [
            "\u001b[0;31m---------------------------------------------------------------------------\u001b[0m",
            "\u001b[0;31mNameError\u001b[0m                                 Traceback (most recent call last)",
            "\u001b[0;32m<ipython-input-149-86d51b1b183a>\u001b[0m in \u001b[0;36m<module>\u001b[0;34m()\u001b[0m\n\u001b[1;32m      2\u001b[0m print(\"Mean cross-validated MSE or training score of the best_estimator: \",\n\u001b[1;32m      3\u001b[0m        np.sqrt(-gs.best_score_))\n\u001b[0;32m----> 4\u001b[0;31m \u001b[0mgs\u001b[0m\u001b[0;34m.\u001b[0m\u001b[0mbest_estimator_\u001b[0m\u001b[0;34m.\u001b[0m\u001b[0mfit\u001b[0m\u001b[0;34m(\u001b[0m\u001b[0mX_train\u001b[0m\u001b[0;34m,\u001b[0m \u001b[0my_train\u001b[0m\u001b[0;34m)\u001b[0m\u001b[0;34m\u001b[0m\u001b[0;34m\u001b[0m\u001b[0m\n\u001b[0m\u001b[1;32m      5\u001b[0m \u001b[0my_pred\u001b[0m \u001b[0;34m=\u001b[0m \u001b[0mgs\u001b[0m\u001b[0;34m.\u001b[0m\u001b[0mbest_estimator_\u001b[0m\u001b[0;34m.\u001b[0m\u001b[0mpredict\u001b[0m\u001b[0;34m(\u001b[0m\u001b[0mX_test\u001b[0m\u001b[0;34m)\u001b[0m\u001b[0;34m\u001b[0m\u001b[0;34m\u001b[0m\u001b[0m\n",
            "\u001b[0;31mNameError\u001b[0m: name 'y_train' is not defined"
          ]
        }
      ]
    },
    {
      "cell_type": "markdown",
      "metadata": {
        "id": "88Sn6cKHeYXv"
      },
      "source": [
        "# Exporting the Model"
      ]
    },
    {
      "cell_type": "code",
      "metadata": {
        "id": "xX8vtlKoeXOn"
      },
      "source": [
        "filename = 'Classification_With_Age.sav'\n",
        "pickle.dump(Efficient_Model_2, open(filename, 'wb'))"
      ],
      "execution_count": null,
      "outputs": []
    }
  ]
}